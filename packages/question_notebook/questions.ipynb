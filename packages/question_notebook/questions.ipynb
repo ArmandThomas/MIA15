{
 "nbformat": 4,
 "nbformat_minor": 0,
 "metadata": {
  "colab": {
   "provenance": []
  },
  "kernelspec": {
   "name": "python3",
   "language": "python",
   "display_name": "Python 3 (ipykernel)"
  },
  "language_info": {
   "name": "python"
  }
 },
 "cells": [
  {
   "cell_type": "code",
   "execution_count": 1,
   "metadata": {
    "id": "H2FajVL5bpMW",
    "ExecuteTime": {
     "end_time": "2024-05-30T10:36:42.446331700Z",
     "start_time": "2024-05-30T10:36:41.291303300Z"
    }
   },
   "outputs": [],
   "source": [
    "# Q1 : France has hosted 6 Olympic Games: 3 Winter and 3 Summer (including the one in 2024)."
   ]
  },
  {
   "cell_type": "code",
   "source": [
    "import pandas as pd"
   ],
   "metadata": {
    "id": "bx0h1hdCj_Cn",
    "ExecuteTime": {
     "end_time": "2024-05-30T10:36:51.220212800Z",
     "start_time": "2024-05-30T10:36:42.439293900Z"
    }
   },
   "execution_count": 2,
   "outputs": []
  },
  {
   "cell_type": "code",
   "source": [
    "df_hosts = pd.read_csv('../clean_data/data/output/hosts.csv')"
   ],
   "metadata": {
    "id": "STCBMKo9jwis",
    "ExecuteTime": {
     "end_time": "2024-05-30T10:36:55.266895200Z",
     "start_time": "2024-05-30T10:36:55.172996400Z"
    }
   },
   "execution_count": 3,
   "outputs": []
  },
  {
   "cell_type": "code",
   "source": [
    "df_hosts.head()"
   ],
   "metadata": {
    "colab": {
     "base_uri": "https://localhost:8080/",
     "height": 206
    },
    "id": "ueYcnzZ9kkOS",
    "outputId": "ad0a33d9-6e04-4fa7-fe26-0b46ddb12e42",
    "ExecuteTime": {
     "end_time": "2024-05-30T10:36:57.949849700Z",
     "start_time": "2024-05-30T10:36:57.276598Z"
    }
   },
   "execution_count": 4,
   "outputs": [
    {
     "data": {
      "text/plain": "          game_slug         game_end_date       game_start_date  \\\n0      beijing-2022  2022-02-20T12:00:00Z  2022-02-04T15:00:00Z   \n1        tokyo-2020  2021-08-08T14:00:00Z  2021-07-23T11:00:00Z   \n2  pyeongchang-2018  2018-02-25T08:00:00Z  2018-02-08T23:00:00Z   \n3          rio-2016  2016-08-21T21:00:00Z  2016-08-05T12:00:00Z   \n4        sochi-2014  2014-02-23T16:00:00Z  2014-02-07T04:00:00Z   \n\n        game_location         game_name game_season  game_year  \n0               China      Beijing 2022      Winter       2022  \n1               Japan        Tokyo 2020      Summer       2020  \n2   Republic of Korea  PyeongChang 2018      Winter       2018  \n3              Brazil          Rio 2016      Summer       2016  \n4  Russian Federation        Sochi 2014      Winter       2014  ",
      "text/html": "<div>\n<style scoped>\n    .dataframe tbody tr th:only-of-type {\n        vertical-align: middle;\n    }\n\n    .dataframe tbody tr th {\n        vertical-align: top;\n    }\n\n    .dataframe thead th {\n        text-align: right;\n    }\n</style>\n<table border=\"1\" class=\"dataframe\">\n  <thead>\n    <tr style=\"text-align: right;\">\n      <th></th>\n      <th>game_slug</th>\n      <th>game_end_date</th>\n      <th>game_start_date</th>\n      <th>game_location</th>\n      <th>game_name</th>\n      <th>game_season</th>\n      <th>game_year</th>\n    </tr>\n  </thead>\n  <tbody>\n    <tr>\n      <th>0</th>\n      <td>beijing-2022</td>\n      <td>2022-02-20T12:00:00Z</td>\n      <td>2022-02-04T15:00:00Z</td>\n      <td>China</td>\n      <td>Beijing 2022</td>\n      <td>Winter</td>\n      <td>2022</td>\n    </tr>\n    <tr>\n      <th>1</th>\n      <td>tokyo-2020</td>\n      <td>2021-08-08T14:00:00Z</td>\n      <td>2021-07-23T11:00:00Z</td>\n      <td>Japan</td>\n      <td>Tokyo 2020</td>\n      <td>Summer</td>\n      <td>2020</td>\n    </tr>\n    <tr>\n      <th>2</th>\n      <td>pyeongchang-2018</td>\n      <td>2018-02-25T08:00:00Z</td>\n      <td>2018-02-08T23:00:00Z</td>\n      <td>Republic of Korea</td>\n      <td>PyeongChang 2018</td>\n      <td>Winter</td>\n      <td>2018</td>\n    </tr>\n    <tr>\n      <th>3</th>\n      <td>rio-2016</td>\n      <td>2016-08-21T21:00:00Z</td>\n      <td>2016-08-05T12:00:00Z</td>\n      <td>Brazil</td>\n      <td>Rio 2016</td>\n      <td>Summer</td>\n      <td>2016</td>\n    </tr>\n    <tr>\n      <th>4</th>\n      <td>sochi-2014</td>\n      <td>2014-02-23T16:00:00Z</td>\n      <td>2014-02-07T04:00:00Z</td>\n      <td>Russian Federation</td>\n      <td>Sochi 2014</td>\n      <td>Winter</td>\n      <td>2014</td>\n    </tr>\n  </tbody>\n</table>\n</div>"
     },
     "execution_count": 4,
     "metadata": {},
     "output_type": "execute_result"
    }
   ]
  },
  {
   "cell_type": "code",
   "source": [
    "french_hosts = df_hosts[df_hosts['game_location'] == 'France']\n",
    "french_hosts.head()"
   ],
   "metadata": {
    "colab": {
     "base_uri": "https://localhost:8080/",
     "height": 206
    },
    "id": "JSC2O7Vrku61",
    "outputId": "7c157391-cd58-48a2-ab02-5dfcfce915d1",
    "ExecuteTime": {
     "end_time": "2024-05-30T10:37:00.664417500Z",
     "start_time": "2024-05-30T10:37:00.381524100Z"
    }
   },
   "execution_count": 5,
   "outputs": [
    {
     "data": {
      "text/plain": "           game_slug         game_end_date       game_start_date  \\\n16  albertville-1992  1992-02-23T19:00:00Z  1992-02-08T07:00:00Z   \n28     grenoble-1968  1968-02-18T19:00:00Z  1968-02-06T07:00:00Z   \n45        paris-1924  1924-07-27T19:00:00Z  1924-05-04T07:00:00Z   \n46     chamonix-1924  1924-02-05T20:00:00Z  1924-01-25T08:00:00Z   \n51        paris-1900  1900-10-28T19:50:39Z  1900-05-14T08:50:39Z   \n\n   game_location         game_name game_season  game_year  \n16        France  Albertville 1992      Winter       1992  \n28        France     Grenoble 1968      Winter       1968  \n45        France        Paris 1924      Summer       1924  \n46        France     Chamonix 1924      Winter       1924  \n51        France        Paris 1900      Summer       1900  ",
      "text/html": "<div>\n<style scoped>\n    .dataframe tbody tr th:only-of-type {\n        vertical-align: middle;\n    }\n\n    .dataframe tbody tr th {\n        vertical-align: top;\n    }\n\n    .dataframe thead th {\n        text-align: right;\n    }\n</style>\n<table border=\"1\" class=\"dataframe\">\n  <thead>\n    <tr style=\"text-align: right;\">\n      <th></th>\n      <th>game_slug</th>\n      <th>game_end_date</th>\n      <th>game_start_date</th>\n      <th>game_location</th>\n      <th>game_name</th>\n      <th>game_season</th>\n      <th>game_year</th>\n    </tr>\n  </thead>\n  <tbody>\n    <tr>\n      <th>16</th>\n      <td>albertville-1992</td>\n      <td>1992-02-23T19:00:00Z</td>\n      <td>1992-02-08T07:00:00Z</td>\n      <td>France</td>\n      <td>Albertville 1992</td>\n      <td>Winter</td>\n      <td>1992</td>\n    </tr>\n    <tr>\n      <th>28</th>\n      <td>grenoble-1968</td>\n      <td>1968-02-18T19:00:00Z</td>\n      <td>1968-02-06T07:00:00Z</td>\n      <td>France</td>\n      <td>Grenoble 1968</td>\n      <td>Winter</td>\n      <td>1968</td>\n    </tr>\n    <tr>\n      <th>45</th>\n      <td>paris-1924</td>\n      <td>1924-07-27T19:00:00Z</td>\n      <td>1924-05-04T07:00:00Z</td>\n      <td>France</td>\n      <td>Paris 1924</td>\n      <td>Summer</td>\n      <td>1924</td>\n    </tr>\n    <tr>\n      <th>46</th>\n      <td>chamonix-1924</td>\n      <td>1924-02-05T20:00:00Z</td>\n      <td>1924-01-25T08:00:00Z</td>\n      <td>France</td>\n      <td>Chamonix 1924</td>\n      <td>Winter</td>\n      <td>1924</td>\n    </tr>\n    <tr>\n      <th>51</th>\n      <td>paris-1900</td>\n      <td>1900-10-28T19:50:39Z</td>\n      <td>1900-05-14T08:50:39Z</td>\n      <td>France</td>\n      <td>Paris 1900</td>\n      <td>Summer</td>\n      <td>1900</td>\n    </tr>\n  </tbody>\n</table>\n</div>"
     },
     "execution_count": 5,
     "metadata": {},
     "output_type": "execute_result"
    }
   ]
  },
  {
   "cell_type": "code",
   "source": [
    "winter = len(french_hosts[french_hosts['game_season'] == \"Winter\"])\n",
    "summer = len(french_hosts[french_hosts['game_season'] == \"Summer\"]) + 1\n",
    "\n",
    "print(f\"With 2024, France will have hosted the Winter Olympics {winter} times and the Summer Olympics {summer} times\")"
   ],
   "metadata": {
    "colab": {
     "base_uri": "https://localhost:8080/"
    },
    "id": "9a-TMIbIlOm3",
    "outputId": "552ebda0-f73f-48f4-d4d5-693bdf6d25c8",
    "ExecuteTime": {
     "end_time": "2024-05-30T10:37:02.730324400Z",
     "start_time": "2024-05-30T10:37:02.580630100Z"
    }
   },
   "execution_count": 6,
   "outputs": [
    {
     "name": "stdout",
     "output_type": "stream",
     "text": [
      "With 2024, France will have hosted the Winter Olympics 3 times and the Summer Olympics 3 times\n"
     ]
    }
   ]
  },
  {
   "cell_type": "code",
   "source": [
    "# Q2. France is the second country to have hosted the most Olympic Games after the USA (8 Olympics)."
   ],
   "metadata": {
    "id": "ItZvB0Gema6g",
    "ExecuteTime": {
     "end_time": "2024-05-30T10:37:04.786019100Z",
     "start_time": "2024-05-30T10:37:04.708327100Z"
    }
   },
   "execution_count": 7,
   "outputs": []
  },
  {
   "cell_type": "code",
   "source": [
    "host_counts = df_hosts['game_location'].value_counts()\n",
    "print(host_counts)"
   ],
   "metadata": {
    "colab": {
     "base_uri": "https://localhost:8080/"
    },
    "id": "QRWIOU4om53-",
    "outputId": "e5ddcd4a-c40d-4c8d-a34a-eb42f732e172",
    "ExecuteTime": {
     "end_time": "2024-05-30T10:37:06.215691Z",
     "start_time": "2024-05-30T10:37:06.138030500Z"
    }
   },
   "execution_count": 8,
   "outputs": [
    {
     "name": "stdout",
     "output_type": "stream",
     "text": [
      "game_location\n",
      "United States                  8\n",
      "France                         5\n",
      "Japan                          4\n",
      "Great Britain                  3\n",
      "Canada                         3\n",
      "Italy                          3\n",
      "Norway                         2\n",
      "Germany                        2\n",
      "Switzerland                    2\n",
      "Austria                        2\n",
      "China                          2\n",
      "Greece                         2\n",
      "Republic of Korea              2\n",
      "Australia                      1\n",
      "Spain                          1\n",
      "Yugoslavia                     1\n",
      "USSR                           1\n",
      "Russian Federation             1\n",
      "Federal Republic of Germany    1\n",
      "Mexico                         1\n",
      "Australia, Sweden              1\n",
      "Finland                        1\n",
      "Brazil                         1\n",
      "Netherlands                    1\n",
      "Belgium                        1\n",
      "Sweden                         1\n",
      "Name: count, dtype: int64\n"
     ]
    }
   ]
  },
  {
   "cell_type": "code",
   "source": [
    "if host_counts.index[1] == 'France':\n",
    "    print(\"Yes, France is the second country to host the Olympics.\")"
   ],
   "metadata": {
    "colab": {
     "base_uri": "https://localhost:8080/"
    },
    "id": "Vy5EKyGJnCj4",
    "outputId": "f2dcdd0e-5b44-4bfa-9f94-2ab0ae2f55c6",
    "ExecuteTime": {
     "end_time": "2024-05-30T10:37:07.273087700Z",
     "start_time": "2024-05-30T10:37:07.231829100Z"
    }
   },
   "execution_count": 9,
   "outputs": [
    {
     "name": "stdout",
     "output_type": "stream",
     "text": [
      "Yes, France is the second country to host the Olympics.\n"
     ]
    }
   ]
  },
  {
   "cell_type": "code",
   "source": [
    "# Q3 : The Winter Olympics were born in Chamonix in 1924"
   ],
   "metadata": {
    "id": "l58_LO43nFrz",
    "ExecuteTime": {
     "end_time": "2024-05-30T10:37:08.391308500Z",
     "start_time": "2024-05-30T10:37:08.318828500Z"
    }
   },
   "execution_count": 10,
   "outputs": []
  },
  {
   "cell_type": "code",
   "source": [
    "first_winter_olympic_games = df_hosts[(df_hosts['game_season'] == 'Winter')].sort_values('game_year').iloc[0]\n",
    "first_winter_olympic_games"
   ],
   "metadata": {
    "colab": {
     "base_uri": "https://localhost:8080/"
    },
    "id": "ykAVPvlbnL9i",
    "outputId": "a74c0916-4799-4f5b-ace4-67a51298bf60",
    "ExecuteTime": {
     "end_time": "2024-05-30T10:37:10.146368300Z",
     "start_time": "2024-05-30T10:37:10.065291500Z"
    }
   },
   "execution_count": 11,
   "outputs": [
    {
     "data": {
      "text/plain": "game_slug                 chamonix-1924\ngame_end_date      1924-02-05T20:00:00Z\ngame_start_date    1924-01-25T08:00:00Z\ngame_location                    France\ngame_name                 Chamonix 1924\ngame_season                      Winter\ngame_year                          1924\nName: 46, dtype: object"
     },
     "execution_count": 11,
     "metadata": {},
     "output_type": "execute_result"
    }
   ]
  },
  {
   "cell_type": "code",
   "source": [
    "print(\"Yes, Winter Olympics were born in France at Chamonix in 1924.\")"
   ],
   "metadata": {
    "colab": {
     "base_uri": "https://localhost:8080/"
    },
    "id": "dC0-Hnk3ncC5",
    "outputId": "aa3a7c86-bda6-4aed-99bf-085e8a4306d4",
    "ExecuteTime": {
     "end_time": "2024-05-30T10:37:11.249417200Z",
     "start_time": "2024-05-30T10:37:11.164512800Z"
    }
   },
   "execution_count": 12,
   "outputs": [
    {
     "name": "stdout",
     "output_type": "stream",
     "text": [
      "Yes, Winter Olympics were born in France at Chamonix in 1924.\n"
     ]
    }
   ]
  },
  {
   "cell_type": "code",
   "source": [
    "# Q4 : Olympic Games in Paris, 1900: women can participate in the Olympics?"
   ],
   "metadata": {
    "id": "UnitAqIm6AgA",
    "ExecuteTime": {
     "end_time": "2024-05-30T10:37:12.240756Z",
     "start_time": "2024-05-30T10:37:12.164815500Z"
    }
   },
   "execution_count": 13,
   "outputs": []
  },
  {
   "cell_type": "code",
   "source": [
    "df_results = pd.read_csv('../clean_data/data/output/results_jo.csv')\n",
    "df_results.head(20)"
   ],
   "metadata": {
    "colab": {
     "base_uri": "https://localhost:8080/",
     "height": 1000
    },
    "id": "pkbdguHzn-Ec",
    "outputId": "5071dc5a-2eed-4081-8561-f0546e528f7f",
    "ExecuteTime": {
     "end_time": "2024-05-30T10:37:14.124942500Z",
     "start_time": "2024-05-30T10:37:13.070349Z"
    }
   },
   "execution_count": 14,
   "outputs": [
    {
     "data": {
      "text/plain": "   discipline_title    event_title     slug_game participant_type medal_type  \\\n0           Curling  Mixed Doubles  beijing-2022         GameTeam       GOLD   \n1           Curling  Mixed Doubles  beijing-2022         GameTeam     SILVER   \n2           Curling  Mixed Doubles  beijing-2022         GameTeam     BRONZE   \n3           Curling  Mixed Doubles  beijing-2022         GameTeam        NaN   \n4           Curling  Mixed Doubles  beijing-2022         GameTeam        NaN   \n5           Curling  Mixed Doubles  beijing-2022         GameTeam        NaN   \n6           Curling  Mixed Doubles  beijing-2022         GameTeam        NaN   \n7           Curling  Mixed Doubles  beijing-2022         GameTeam        NaN   \n8           Curling  Mixed Doubles  beijing-2022         GameTeam        NaN   \n9           Curling  Mixed Doubles  beijing-2022         GameTeam        NaN   \n10          Curling          Women  beijing-2022         GameTeam       GOLD   \n11          Curling          Women  beijing-2022         GameTeam     SILVER   \n12          Curling          Women  beijing-2022         GameTeam     BRONZE   \n13          Curling          Women  beijing-2022         GameTeam        NaN   \n14          Curling          Women  beijing-2022         GameTeam        NaN   \n15          Curling          Women  beijing-2022         GameTeam        NaN   \n16          Curling          Women  beijing-2022         GameTeam        NaN   \n17          Curling          Women  beijing-2022         GameTeam        NaN   \n18          Curling          Women  beijing-2022         GameTeam        NaN   \n19          Curling          Women  beijing-2022         GameTeam        NaN   \n\n                                             athletes rank_equal  \\\n0   [('Stefania CONSTANTINI', 'https://olympics.co...      False   \n1   [('Kristin SKASLIEN', 'https://olympics.com/en...      False   \n2   [('Almida DE VAL', 'https://olympics.com/en/at...      False   \n3   [('Jennifer DODDS', 'https://olympics.com/en/a...      False   \n4   [('Rachel HOMAN', 'https://olympics.com/en/ath...      False   \n5   [('Zuzana HAJKOVA', 'https://olympics.com/en/a...      False   \n6   [('Jenny PERRET', 'https://olympics.com/en/ath...      False   \n7   [('Vicky PERSINGER', 'https://olympics.com/en/...      False   \n8   [('Suyuan FAN', 'https://olympics.com/en/athle...      False   \n9   [('Tahli GILL', 'https://olympics.com/en/athle...      False   \n10                                                NaN      False   \n11                                                NaN      False   \n12                                                NaN      False   \n13                                                NaN      False   \n14                                                NaN      False   \n15                                                NaN      False   \n16                                                NaN      False   \n17                                                NaN      False   \n18                                                NaN      False   \n19                                                NaN      False   \n\n   rank_position                country_name country_code  \\\n0              1                       Italy           IT   \n1              2                      Norway           NO   \n2              3                      Sweden           SE   \n3              4               Great Britain           GB   \n4              5                      Canada           CA   \n5              6              Czech Republic           CZ   \n6              7                 Switzerland           CH   \n7              8    United States of America           US   \n8              9  People's Republic of China           CN   \n9             10                   Australia           AU   \n10             1               Great Britain           GB   \n11             2                       Japan           JP   \n12             3                      Sweden           SE   \n13             4                 Switzerland           CH   \n14             5                      Canada           CA   \n15             6    United States of America           US   \n16             7  People's Republic of China           CN   \n17             8           Republic of Korea           KR   \n18             9                     Denmark           DK   \n19            10                         ROC          ROC   \n\n   country_3_letter_code value_unit value_type event_gender  \n0                    ITA        NaN        NaN        Mixed  \n1                    NOR        NaN        NaN        Mixed  \n2                    SWE        NaN        NaN        Mixed  \n3                    GBR        NaN        NaN        Mixed  \n4                    CAN        NaN        NaN        Mixed  \n5                    CZE        NaN        NaN        Mixed  \n6                    SUI        NaN        NaN        Mixed  \n7                    USA        NaN        NaN        Mixed  \n8                    CHN        NaN        NaN        Mixed  \n9                    AUS        NaN        NaN        Mixed  \n10                   GBR        NaN        NaN        Women  \n11                   JPN        NaN        NaN        Women  \n12                   SWE        NaN        NaN        Women  \n13                   SUI        NaN        NaN        Women  \n14                   CAN        NaN        NaN        Women  \n15                   USA        NaN        NaN        Women  \n16                   CHN        NaN        NaN        Women  \n17                   KOR        NaN        NaN        Women  \n18                   DEN        NaN        NaN        Women  \n19                   ROC        NaN        NaN        Women  ",
      "text/html": "<div>\n<style scoped>\n    .dataframe tbody tr th:only-of-type {\n        vertical-align: middle;\n    }\n\n    .dataframe tbody tr th {\n        vertical-align: top;\n    }\n\n    .dataframe thead th {\n        text-align: right;\n    }\n</style>\n<table border=\"1\" class=\"dataframe\">\n  <thead>\n    <tr style=\"text-align: right;\">\n      <th></th>\n      <th>discipline_title</th>\n      <th>event_title</th>\n      <th>slug_game</th>\n      <th>participant_type</th>\n      <th>medal_type</th>\n      <th>athletes</th>\n      <th>rank_equal</th>\n      <th>rank_position</th>\n      <th>country_name</th>\n      <th>country_code</th>\n      <th>country_3_letter_code</th>\n      <th>value_unit</th>\n      <th>value_type</th>\n      <th>event_gender</th>\n    </tr>\n  </thead>\n  <tbody>\n    <tr>\n      <th>0</th>\n      <td>Curling</td>\n      <td>Mixed Doubles</td>\n      <td>beijing-2022</td>\n      <td>GameTeam</td>\n      <td>GOLD</td>\n      <td>[('Stefania CONSTANTINI', 'https://olympics.co...</td>\n      <td>False</td>\n      <td>1</td>\n      <td>Italy</td>\n      <td>IT</td>\n      <td>ITA</td>\n      <td>NaN</td>\n      <td>NaN</td>\n      <td>Mixed</td>\n    </tr>\n    <tr>\n      <th>1</th>\n      <td>Curling</td>\n      <td>Mixed Doubles</td>\n      <td>beijing-2022</td>\n      <td>GameTeam</td>\n      <td>SILVER</td>\n      <td>[('Kristin SKASLIEN', 'https://olympics.com/en...</td>\n      <td>False</td>\n      <td>2</td>\n      <td>Norway</td>\n      <td>NO</td>\n      <td>NOR</td>\n      <td>NaN</td>\n      <td>NaN</td>\n      <td>Mixed</td>\n    </tr>\n    <tr>\n      <th>2</th>\n      <td>Curling</td>\n      <td>Mixed Doubles</td>\n      <td>beijing-2022</td>\n      <td>GameTeam</td>\n      <td>BRONZE</td>\n      <td>[('Almida DE VAL', 'https://olympics.com/en/at...</td>\n      <td>False</td>\n      <td>3</td>\n      <td>Sweden</td>\n      <td>SE</td>\n      <td>SWE</td>\n      <td>NaN</td>\n      <td>NaN</td>\n      <td>Mixed</td>\n    </tr>\n    <tr>\n      <th>3</th>\n      <td>Curling</td>\n      <td>Mixed Doubles</td>\n      <td>beijing-2022</td>\n      <td>GameTeam</td>\n      <td>NaN</td>\n      <td>[('Jennifer DODDS', 'https://olympics.com/en/a...</td>\n      <td>False</td>\n      <td>4</td>\n      <td>Great Britain</td>\n      <td>GB</td>\n      <td>GBR</td>\n      <td>NaN</td>\n      <td>NaN</td>\n      <td>Mixed</td>\n    </tr>\n    <tr>\n      <th>4</th>\n      <td>Curling</td>\n      <td>Mixed Doubles</td>\n      <td>beijing-2022</td>\n      <td>GameTeam</td>\n      <td>NaN</td>\n      <td>[('Rachel HOMAN', 'https://olympics.com/en/ath...</td>\n      <td>False</td>\n      <td>5</td>\n      <td>Canada</td>\n      <td>CA</td>\n      <td>CAN</td>\n      <td>NaN</td>\n      <td>NaN</td>\n      <td>Mixed</td>\n    </tr>\n    <tr>\n      <th>5</th>\n      <td>Curling</td>\n      <td>Mixed Doubles</td>\n      <td>beijing-2022</td>\n      <td>GameTeam</td>\n      <td>NaN</td>\n      <td>[('Zuzana HAJKOVA', 'https://olympics.com/en/a...</td>\n      <td>False</td>\n      <td>6</td>\n      <td>Czech Republic</td>\n      <td>CZ</td>\n      <td>CZE</td>\n      <td>NaN</td>\n      <td>NaN</td>\n      <td>Mixed</td>\n    </tr>\n    <tr>\n      <th>6</th>\n      <td>Curling</td>\n      <td>Mixed Doubles</td>\n      <td>beijing-2022</td>\n      <td>GameTeam</td>\n      <td>NaN</td>\n      <td>[('Jenny PERRET', 'https://olympics.com/en/ath...</td>\n      <td>False</td>\n      <td>7</td>\n      <td>Switzerland</td>\n      <td>CH</td>\n      <td>SUI</td>\n      <td>NaN</td>\n      <td>NaN</td>\n      <td>Mixed</td>\n    </tr>\n    <tr>\n      <th>7</th>\n      <td>Curling</td>\n      <td>Mixed Doubles</td>\n      <td>beijing-2022</td>\n      <td>GameTeam</td>\n      <td>NaN</td>\n      <td>[('Vicky PERSINGER', 'https://olympics.com/en/...</td>\n      <td>False</td>\n      <td>8</td>\n      <td>United States of America</td>\n      <td>US</td>\n      <td>USA</td>\n      <td>NaN</td>\n      <td>NaN</td>\n      <td>Mixed</td>\n    </tr>\n    <tr>\n      <th>8</th>\n      <td>Curling</td>\n      <td>Mixed Doubles</td>\n      <td>beijing-2022</td>\n      <td>GameTeam</td>\n      <td>NaN</td>\n      <td>[('Suyuan FAN', 'https://olympics.com/en/athle...</td>\n      <td>False</td>\n      <td>9</td>\n      <td>People's Republic of China</td>\n      <td>CN</td>\n      <td>CHN</td>\n      <td>NaN</td>\n      <td>NaN</td>\n      <td>Mixed</td>\n    </tr>\n    <tr>\n      <th>9</th>\n      <td>Curling</td>\n      <td>Mixed Doubles</td>\n      <td>beijing-2022</td>\n      <td>GameTeam</td>\n      <td>NaN</td>\n      <td>[('Tahli GILL', 'https://olympics.com/en/athle...</td>\n      <td>False</td>\n      <td>10</td>\n      <td>Australia</td>\n      <td>AU</td>\n      <td>AUS</td>\n      <td>NaN</td>\n      <td>NaN</td>\n      <td>Mixed</td>\n    </tr>\n    <tr>\n      <th>10</th>\n      <td>Curling</td>\n      <td>Women</td>\n      <td>beijing-2022</td>\n      <td>GameTeam</td>\n      <td>GOLD</td>\n      <td>NaN</td>\n      <td>False</td>\n      <td>1</td>\n      <td>Great Britain</td>\n      <td>GB</td>\n      <td>GBR</td>\n      <td>NaN</td>\n      <td>NaN</td>\n      <td>Women</td>\n    </tr>\n    <tr>\n      <th>11</th>\n      <td>Curling</td>\n      <td>Women</td>\n      <td>beijing-2022</td>\n      <td>GameTeam</td>\n      <td>SILVER</td>\n      <td>NaN</td>\n      <td>False</td>\n      <td>2</td>\n      <td>Japan</td>\n      <td>JP</td>\n      <td>JPN</td>\n      <td>NaN</td>\n      <td>NaN</td>\n      <td>Women</td>\n    </tr>\n    <tr>\n      <th>12</th>\n      <td>Curling</td>\n      <td>Women</td>\n      <td>beijing-2022</td>\n      <td>GameTeam</td>\n      <td>BRONZE</td>\n      <td>NaN</td>\n      <td>False</td>\n      <td>3</td>\n      <td>Sweden</td>\n      <td>SE</td>\n      <td>SWE</td>\n      <td>NaN</td>\n      <td>NaN</td>\n      <td>Women</td>\n    </tr>\n    <tr>\n      <th>13</th>\n      <td>Curling</td>\n      <td>Women</td>\n      <td>beijing-2022</td>\n      <td>GameTeam</td>\n      <td>NaN</td>\n      <td>NaN</td>\n      <td>False</td>\n      <td>4</td>\n      <td>Switzerland</td>\n      <td>CH</td>\n      <td>SUI</td>\n      <td>NaN</td>\n      <td>NaN</td>\n      <td>Women</td>\n    </tr>\n    <tr>\n      <th>14</th>\n      <td>Curling</td>\n      <td>Women</td>\n      <td>beijing-2022</td>\n      <td>GameTeam</td>\n      <td>NaN</td>\n      <td>NaN</td>\n      <td>False</td>\n      <td>5</td>\n      <td>Canada</td>\n      <td>CA</td>\n      <td>CAN</td>\n      <td>NaN</td>\n      <td>NaN</td>\n      <td>Women</td>\n    </tr>\n    <tr>\n      <th>15</th>\n      <td>Curling</td>\n      <td>Women</td>\n      <td>beijing-2022</td>\n      <td>GameTeam</td>\n      <td>NaN</td>\n      <td>NaN</td>\n      <td>False</td>\n      <td>6</td>\n      <td>United States of America</td>\n      <td>US</td>\n      <td>USA</td>\n      <td>NaN</td>\n      <td>NaN</td>\n      <td>Women</td>\n    </tr>\n    <tr>\n      <th>16</th>\n      <td>Curling</td>\n      <td>Women</td>\n      <td>beijing-2022</td>\n      <td>GameTeam</td>\n      <td>NaN</td>\n      <td>NaN</td>\n      <td>False</td>\n      <td>7</td>\n      <td>People's Republic of China</td>\n      <td>CN</td>\n      <td>CHN</td>\n      <td>NaN</td>\n      <td>NaN</td>\n      <td>Women</td>\n    </tr>\n    <tr>\n      <th>17</th>\n      <td>Curling</td>\n      <td>Women</td>\n      <td>beijing-2022</td>\n      <td>GameTeam</td>\n      <td>NaN</td>\n      <td>NaN</td>\n      <td>False</td>\n      <td>8</td>\n      <td>Republic of Korea</td>\n      <td>KR</td>\n      <td>KOR</td>\n      <td>NaN</td>\n      <td>NaN</td>\n      <td>Women</td>\n    </tr>\n    <tr>\n      <th>18</th>\n      <td>Curling</td>\n      <td>Women</td>\n      <td>beijing-2022</td>\n      <td>GameTeam</td>\n      <td>NaN</td>\n      <td>NaN</td>\n      <td>False</td>\n      <td>9</td>\n      <td>Denmark</td>\n      <td>DK</td>\n      <td>DEN</td>\n      <td>NaN</td>\n      <td>NaN</td>\n      <td>Women</td>\n    </tr>\n    <tr>\n      <th>19</th>\n      <td>Curling</td>\n      <td>Women</td>\n      <td>beijing-2022</td>\n      <td>GameTeam</td>\n      <td>NaN</td>\n      <td>NaN</td>\n      <td>False</td>\n      <td>10</td>\n      <td>ROC</td>\n      <td>ROC</td>\n      <td>ROC</td>\n      <td>NaN</td>\n      <td>NaN</td>\n      <td>Women</td>\n    </tr>\n  </tbody>\n</table>\n</div>"
     },
     "execution_count": 14,
     "metadata": {},
     "output_type": "execute_result"
    }
   ]
  },
  {
   "cell_type": "code",
   "source": [
    "slug_name = 'paris-1900'\n",
    "\n",
    "nbr_events_women_paris1900 = len(df_results[(df_results['slug_game'] == slug_name) & (df_results['event_gender'].str.lower() == 'women')])\n",
    "if nbr_events_women_paris1900 > 0:\n",
    "  print('Yes women in 1900 in paris  could participate')"
   ],
   "metadata": {
    "colab": {
     "base_uri": "https://localhost:8080/"
    },
    "id": "7bzl6tW6sMYu",
    "outputId": "2aa24864-42fb-437e-f271-c6af97998b33",
    "ExecuteTime": {
     "end_time": "2024-05-30T10:37:15.105233Z",
     "start_time": "2024-05-30T10:37:14.970316600Z"
    }
   },
   "execution_count": 15,
   "outputs": [
    {
     "name": "stdout",
     "output_type": "stream",
     "text": [
      "Yes women in 1900 in paris  could participate\n"
     ]
    }
   ]
  },
  {
   "cell_type": "code",
   "source": [
    "# Q5. Only 4 athletes won medals at both the Winter and Summer Olympics. Only one of them, Christa Ludinger-Rothenburger, won medals in the same year?"
   ],
   "metadata": {
    "id": "qhMKKE3d42hR",
    "ExecuteTime": {
     "end_time": "2024-05-30T10:37:15.938562Z",
     "start_time": "2024-05-30T10:37:15.877839Z"
    }
   },
   "execution_count": 16,
   "outputs": []
  },
  {
   "cell_type": "code",
   "source": [
    "merged_df_hosts = pd.merge(df_results, df_hosts, left_on='slug_game', right_on='game_slug', how='inner')\n",
    "winter_df= merged_df_hosts[merged_df_hosts['game_season'].str.lower() == 'winter']\n",
    "summer_df = merged_df_hosts[merged_df_hosts['game_season'].str.lower() == 'summer']"
   ],
   "metadata": {
    "id": "yC7v-f0C74Zu",
    "ExecuteTime": {
     "end_time": "2024-05-30T10:37:17.035862800Z",
     "start_time": "2024-05-30T10:37:16.780401100Z"
    }
   },
   "execution_count": 17,
   "outputs": []
  },
  {
   "cell_type": "code",
   "source": [
    "winter_df.head()"
   ],
   "metadata": {
    "colab": {
     "base_uri": "https://localhost:8080/",
     "height": 342
    },
    "id": "gOyOBhKq98nI",
    "outputId": "e2af8979-4bfa-4556-cd86-736c12f03b18",
    "ExecuteTime": {
     "end_time": "2024-05-30T10:37:17.883119600Z",
     "start_time": "2024-05-30T10:37:17.781039400Z"
    }
   },
   "execution_count": 18,
   "outputs": [
    {
     "data": {
      "text/plain": "  discipline_title    event_title     slug_game participant_type medal_type  \\\n0          Curling  Mixed Doubles  beijing-2022         GameTeam       GOLD   \n1          Curling  Mixed Doubles  beijing-2022         GameTeam     SILVER   \n2          Curling  Mixed Doubles  beijing-2022         GameTeam     BRONZE   \n3          Curling  Mixed Doubles  beijing-2022         GameTeam        NaN   \n4          Curling  Mixed Doubles  beijing-2022         GameTeam        NaN   \n\n                                            athletes rank_equal rank_position  \\\n0  [('Stefania CONSTANTINI', 'https://olympics.co...      False             1   \n1  [('Kristin SKASLIEN', 'https://olympics.com/en...      False             2   \n2  [('Almida DE VAL', 'https://olympics.com/en/at...      False             3   \n3  [('Jennifer DODDS', 'https://olympics.com/en/a...      False             4   \n4  [('Rachel HOMAN', 'https://olympics.com/en/ath...      False             5   \n\n    country_name country_code  ... value_unit value_type event_gender  \\\n0          Italy           IT  ...        NaN        NaN        Mixed   \n1         Norway           NO  ...        NaN        NaN        Mixed   \n2         Sweden           SE  ...        NaN        NaN        Mixed   \n3  Great Britain           GB  ...        NaN        NaN        Mixed   \n4         Canada           CA  ...        NaN        NaN        Mixed   \n\n      game_slug         game_end_date       game_start_date game_location  \\\n0  beijing-2022  2022-02-20T12:00:00Z  2022-02-04T15:00:00Z         China   \n1  beijing-2022  2022-02-20T12:00:00Z  2022-02-04T15:00:00Z         China   \n2  beijing-2022  2022-02-20T12:00:00Z  2022-02-04T15:00:00Z         China   \n3  beijing-2022  2022-02-20T12:00:00Z  2022-02-04T15:00:00Z         China   \n4  beijing-2022  2022-02-20T12:00:00Z  2022-02-04T15:00:00Z         China   \n\n      game_name game_season game_year  \n0  Beijing 2022      Winter      2022  \n1  Beijing 2022      Winter      2022  \n2  Beijing 2022      Winter      2022  \n3  Beijing 2022      Winter      2022  \n4  Beijing 2022      Winter      2022  \n\n[5 rows x 21 columns]",
      "text/html": "<div>\n<style scoped>\n    .dataframe tbody tr th:only-of-type {\n        vertical-align: middle;\n    }\n\n    .dataframe tbody tr th {\n        vertical-align: top;\n    }\n\n    .dataframe thead th {\n        text-align: right;\n    }\n</style>\n<table border=\"1\" class=\"dataframe\">\n  <thead>\n    <tr style=\"text-align: right;\">\n      <th></th>\n      <th>discipline_title</th>\n      <th>event_title</th>\n      <th>slug_game</th>\n      <th>participant_type</th>\n      <th>medal_type</th>\n      <th>athletes</th>\n      <th>rank_equal</th>\n      <th>rank_position</th>\n      <th>country_name</th>\n      <th>country_code</th>\n      <th>...</th>\n      <th>value_unit</th>\n      <th>value_type</th>\n      <th>event_gender</th>\n      <th>game_slug</th>\n      <th>game_end_date</th>\n      <th>game_start_date</th>\n      <th>game_location</th>\n      <th>game_name</th>\n      <th>game_season</th>\n      <th>game_year</th>\n    </tr>\n  </thead>\n  <tbody>\n    <tr>\n      <th>0</th>\n      <td>Curling</td>\n      <td>Mixed Doubles</td>\n      <td>beijing-2022</td>\n      <td>GameTeam</td>\n      <td>GOLD</td>\n      <td>[('Stefania CONSTANTINI', 'https://olympics.co...</td>\n      <td>False</td>\n      <td>1</td>\n      <td>Italy</td>\n      <td>IT</td>\n      <td>...</td>\n      <td>NaN</td>\n      <td>NaN</td>\n      <td>Mixed</td>\n      <td>beijing-2022</td>\n      <td>2022-02-20T12:00:00Z</td>\n      <td>2022-02-04T15:00:00Z</td>\n      <td>China</td>\n      <td>Beijing 2022</td>\n      <td>Winter</td>\n      <td>2022</td>\n    </tr>\n    <tr>\n      <th>1</th>\n      <td>Curling</td>\n      <td>Mixed Doubles</td>\n      <td>beijing-2022</td>\n      <td>GameTeam</td>\n      <td>SILVER</td>\n      <td>[('Kristin SKASLIEN', 'https://olympics.com/en...</td>\n      <td>False</td>\n      <td>2</td>\n      <td>Norway</td>\n      <td>NO</td>\n      <td>...</td>\n      <td>NaN</td>\n      <td>NaN</td>\n      <td>Mixed</td>\n      <td>beijing-2022</td>\n      <td>2022-02-20T12:00:00Z</td>\n      <td>2022-02-04T15:00:00Z</td>\n      <td>China</td>\n      <td>Beijing 2022</td>\n      <td>Winter</td>\n      <td>2022</td>\n    </tr>\n    <tr>\n      <th>2</th>\n      <td>Curling</td>\n      <td>Mixed Doubles</td>\n      <td>beijing-2022</td>\n      <td>GameTeam</td>\n      <td>BRONZE</td>\n      <td>[('Almida DE VAL', 'https://olympics.com/en/at...</td>\n      <td>False</td>\n      <td>3</td>\n      <td>Sweden</td>\n      <td>SE</td>\n      <td>...</td>\n      <td>NaN</td>\n      <td>NaN</td>\n      <td>Mixed</td>\n      <td>beijing-2022</td>\n      <td>2022-02-20T12:00:00Z</td>\n      <td>2022-02-04T15:00:00Z</td>\n      <td>China</td>\n      <td>Beijing 2022</td>\n      <td>Winter</td>\n      <td>2022</td>\n    </tr>\n    <tr>\n      <th>3</th>\n      <td>Curling</td>\n      <td>Mixed Doubles</td>\n      <td>beijing-2022</td>\n      <td>GameTeam</td>\n      <td>NaN</td>\n      <td>[('Jennifer DODDS', 'https://olympics.com/en/a...</td>\n      <td>False</td>\n      <td>4</td>\n      <td>Great Britain</td>\n      <td>GB</td>\n      <td>...</td>\n      <td>NaN</td>\n      <td>NaN</td>\n      <td>Mixed</td>\n      <td>beijing-2022</td>\n      <td>2022-02-20T12:00:00Z</td>\n      <td>2022-02-04T15:00:00Z</td>\n      <td>China</td>\n      <td>Beijing 2022</td>\n      <td>Winter</td>\n      <td>2022</td>\n    </tr>\n    <tr>\n      <th>4</th>\n      <td>Curling</td>\n      <td>Mixed Doubles</td>\n      <td>beijing-2022</td>\n      <td>GameTeam</td>\n      <td>NaN</td>\n      <td>[('Rachel HOMAN', 'https://olympics.com/en/ath...</td>\n      <td>False</td>\n      <td>5</td>\n      <td>Canada</td>\n      <td>CA</td>\n      <td>...</td>\n      <td>NaN</td>\n      <td>NaN</td>\n      <td>Mixed</td>\n      <td>beijing-2022</td>\n      <td>2022-02-20T12:00:00Z</td>\n      <td>2022-02-04T15:00:00Z</td>\n      <td>China</td>\n      <td>Beijing 2022</td>\n      <td>Winter</td>\n      <td>2022</td>\n    </tr>\n  </tbody>\n</table>\n<p>5 rows × 21 columns</p>\n</div>"
     },
     "execution_count": 18,
     "metadata": {},
     "output_type": "execute_result"
    }
   ]
  },
  {
   "cell_type": "code",
   "source": [
    "import ast\n",
    "\n",
    "def findPplinathletes(name, athletes):\n",
    "    if isinstance(athletes, str):\n",
    "        try:\n",
    "            my_list = ast.literal_eval(athletes)\n",
    "            for athlete in my_list:\n",
    "                if athlete[0] == name:\n",
    "                    return True\n",
    "        except (SyntaxError, ValueError):\n",
    "            pass  # Handle invalid input format\n",
    "    return False\n",
    "\n",
    "ChristaLudingerWinterDf = winter_df[winter_df['athletes'].apply(lambda x: findPplinathletes('Christa LUDING-ROTHENBURGER', x))]\n",
    "ChristaLudingerSummerDf = summer_df[summer_df['athletes'].apply(lambda x: findPplinathletes('Christa LUDING-ROTHENBURGER', x))]\n",
    "ChristaLudingerWinterDf.head()"
   ],
   "metadata": {
    "colab": {
     "base_uri": "https://localhost:8080/",
     "height": 398
    },
    "id": "fGmJBDTxAqXZ",
    "outputId": "1f78b8ab-be04-4b9a-d51f-0fc7357f6b1e",
    "ExecuteTime": {
     "end_time": "2024-05-30T10:37:22.024431200Z",
     "start_time": "2024-05-30T10:37:18.977312300Z"
    }
   },
   "execution_count": 19,
   "outputs": [
    {
     "data": {
      "text/plain": "       discipline_title  event_title         slug_game participant_type  \\\n84162     Speed skating  1000m women  albertville-1992          Athlete   \n84193     Speed skating   500m women  albertville-1992          Athlete   \n93019     Speed skating   500m women      calgary-1988          Athlete   \n93073     Speed skating  1000m women      calgary-1988          Athlete   \n100226    Speed skating   500m women     sarajevo-1984          Athlete   \n\n       medal_type                                           athletes  \\\n84162         NaN  [('Christa LUDING-ROTHENBURGER', 'https://olym...   \n84193      BRONZE  [('Christa LUDING-ROTHENBURGER', 'https://olym...   \n93019      SILVER  [('Christa LUDING-ROTHENBURGER', 'https://olym...   \n93073        GOLD  [('Christa LUDING-ROTHENBURGER', 'https://olym...   \n100226       GOLD  [('Christa LUDING-ROTHENBURGER', 'https://olym...   \n\n       rank_equal rank_position                          country_name  \\\n84162         NaN             8                               Germany   \n84193         NaN             3                               Germany   \n93019         NaN             2  German Democratic Republic (Germany)   \n93073         NaN             1  German Democratic Republic (Germany)   \n100226        NaN             1  German Democratic Republic (Germany)   \n\n       country_code  ...    value_unit value_type event_gender  \\\n84162            DE  ...  00:01:23:060       TIME        Women   \n84193            DE  ...  00:00:40:570       TIME        Women   \n93019          DDDE  ...  00:00:39:120       TIME        Women   \n93073          DDDE  ...  00:01:17:650       TIME        Women   \n100226         DDDE  ...  00:00:41:020       TIME        Women   \n\n               game_slug         game_end_date       game_start_date  \\\n84162   albertville-1992  1992-02-23T19:00:00Z  1992-02-08T07:00:00Z   \n84193   albertville-1992  1992-02-23T19:00:00Z  1992-02-08T07:00:00Z   \n93019       calgary-1988  1988-02-28T03:00:00Z  1988-02-13T15:00:00Z   \n93073       calgary-1988  1988-02-28T03:00:00Z  1988-02-13T15:00:00Z   \n100226     sarajevo-1984  1984-02-19T19:00:00Z  1984-02-08T07:00:00Z   \n\n       game_location         game_name game_season game_year  \n84162         France  Albertville 1992      Winter      1992  \n84193         France  Albertville 1992      Winter      1992  \n93019         Canada      Calgary 1988      Winter      1988  \n93073         Canada      Calgary 1988      Winter      1988  \n100226    Yugoslavia     Sarajevo 1984      Winter      1984  \n\n[5 rows x 21 columns]",
      "text/html": "<div>\n<style scoped>\n    .dataframe tbody tr th:only-of-type {\n        vertical-align: middle;\n    }\n\n    .dataframe tbody tr th {\n        vertical-align: top;\n    }\n\n    .dataframe thead th {\n        text-align: right;\n    }\n</style>\n<table border=\"1\" class=\"dataframe\">\n  <thead>\n    <tr style=\"text-align: right;\">\n      <th></th>\n      <th>discipline_title</th>\n      <th>event_title</th>\n      <th>slug_game</th>\n      <th>participant_type</th>\n      <th>medal_type</th>\n      <th>athletes</th>\n      <th>rank_equal</th>\n      <th>rank_position</th>\n      <th>country_name</th>\n      <th>country_code</th>\n      <th>...</th>\n      <th>value_unit</th>\n      <th>value_type</th>\n      <th>event_gender</th>\n      <th>game_slug</th>\n      <th>game_end_date</th>\n      <th>game_start_date</th>\n      <th>game_location</th>\n      <th>game_name</th>\n      <th>game_season</th>\n      <th>game_year</th>\n    </tr>\n  </thead>\n  <tbody>\n    <tr>\n      <th>84162</th>\n      <td>Speed skating</td>\n      <td>1000m women</td>\n      <td>albertville-1992</td>\n      <td>Athlete</td>\n      <td>NaN</td>\n      <td>[('Christa LUDING-ROTHENBURGER', 'https://olym...</td>\n      <td>NaN</td>\n      <td>8</td>\n      <td>Germany</td>\n      <td>DE</td>\n      <td>...</td>\n      <td>00:01:23:060</td>\n      <td>TIME</td>\n      <td>Women</td>\n      <td>albertville-1992</td>\n      <td>1992-02-23T19:00:00Z</td>\n      <td>1992-02-08T07:00:00Z</td>\n      <td>France</td>\n      <td>Albertville 1992</td>\n      <td>Winter</td>\n      <td>1992</td>\n    </tr>\n    <tr>\n      <th>84193</th>\n      <td>Speed skating</td>\n      <td>500m women</td>\n      <td>albertville-1992</td>\n      <td>Athlete</td>\n      <td>BRONZE</td>\n      <td>[('Christa LUDING-ROTHENBURGER', 'https://olym...</td>\n      <td>NaN</td>\n      <td>3</td>\n      <td>Germany</td>\n      <td>DE</td>\n      <td>...</td>\n      <td>00:00:40:570</td>\n      <td>TIME</td>\n      <td>Women</td>\n      <td>albertville-1992</td>\n      <td>1992-02-23T19:00:00Z</td>\n      <td>1992-02-08T07:00:00Z</td>\n      <td>France</td>\n      <td>Albertville 1992</td>\n      <td>Winter</td>\n      <td>1992</td>\n    </tr>\n    <tr>\n      <th>93019</th>\n      <td>Speed skating</td>\n      <td>500m women</td>\n      <td>calgary-1988</td>\n      <td>Athlete</td>\n      <td>SILVER</td>\n      <td>[('Christa LUDING-ROTHENBURGER', 'https://olym...</td>\n      <td>NaN</td>\n      <td>2</td>\n      <td>German Democratic Republic (Germany)</td>\n      <td>DDDE</td>\n      <td>...</td>\n      <td>00:00:39:120</td>\n      <td>TIME</td>\n      <td>Women</td>\n      <td>calgary-1988</td>\n      <td>1988-02-28T03:00:00Z</td>\n      <td>1988-02-13T15:00:00Z</td>\n      <td>Canada</td>\n      <td>Calgary 1988</td>\n      <td>Winter</td>\n      <td>1988</td>\n    </tr>\n    <tr>\n      <th>93073</th>\n      <td>Speed skating</td>\n      <td>1000m women</td>\n      <td>calgary-1988</td>\n      <td>Athlete</td>\n      <td>GOLD</td>\n      <td>[('Christa LUDING-ROTHENBURGER', 'https://olym...</td>\n      <td>NaN</td>\n      <td>1</td>\n      <td>German Democratic Republic (Germany)</td>\n      <td>DDDE</td>\n      <td>...</td>\n      <td>00:01:17:650</td>\n      <td>TIME</td>\n      <td>Women</td>\n      <td>calgary-1988</td>\n      <td>1988-02-28T03:00:00Z</td>\n      <td>1988-02-13T15:00:00Z</td>\n      <td>Canada</td>\n      <td>Calgary 1988</td>\n      <td>Winter</td>\n      <td>1988</td>\n    </tr>\n    <tr>\n      <th>100226</th>\n      <td>Speed skating</td>\n      <td>500m women</td>\n      <td>sarajevo-1984</td>\n      <td>Athlete</td>\n      <td>GOLD</td>\n      <td>[('Christa LUDING-ROTHENBURGER', 'https://olym...</td>\n      <td>NaN</td>\n      <td>1</td>\n      <td>German Democratic Republic (Germany)</td>\n      <td>DDDE</td>\n      <td>...</td>\n      <td>00:00:41:020</td>\n      <td>TIME</td>\n      <td>Women</td>\n      <td>sarajevo-1984</td>\n      <td>1984-02-19T19:00:00Z</td>\n      <td>1984-02-08T07:00:00Z</td>\n      <td>Yugoslavia</td>\n      <td>Sarajevo 1984</td>\n      <td>Winter</td>\n      <td>1984</td>\n    </tr>\n  </tbody>\n</table>\n<p>5 rows × 21 columns</p>\n</div>"
     },
     "execution_count": 19,
     "metadata": {},
     "output_type": "execute_result"
    }
   ]
  },
  {
   "cell_type": "markdown",
   "source": [],
   "metadata": {
    "id": "Wg5CaN22EdHb"
   }
  },
  {
   "cell_type": "code",
   "source": [
    "ChristaLudingerSummerDf.head()"
   ],
   "metadata": {
    "colab": {
     "base_uri": "https://localhost:8080/",
     "height": 182
    },
    "id": "IkfosPeBA38G",
    "outputId": "2365ee33-f8a1-42ec-c5cb-17fdb5444873",
    "ExecuteTime": {
     "end_time": "2024-05-30T10:37:23.977204300Z",
     "start_time": "2024-05-30T10:37:23.806131700Z"
    }
   },
   "execution_count": 20,
   "outputs": [
    {
     "data": {
      "text/plain": "      discipline_title   event_title   slug_game participant_type medal_type  \\\n88071    Cycling Track  sprint women  seoul-1988          Athlete     SILVER   \n\n                                                athletes rank_equal  \\\n88071  [('Christa LUDING-ROTHENBURGER', 'https://olym...        NaN   \n\n      rank_position                          country_name country_code  ...  \\\n88071             2  German Democratic Republic (Germany)         DDDE  ...   \n\n      value_unit value_type event_gender   game_slug         game_end_date  \\\n88071        NaN        NaN        Women  seoul-1988  1988-10-02T10:00:00Z   \n\n            game_start_date      game_location   game_name game_season  \\\n88071  1988-09-16T22:00:00Z  Republic of Korea  Seoul 1988      Summer   \n\n      game_year  \n88071      1988  \n\n[1 rows x 21 columns]",
      "text/html": "<div>\n<style scoped>\n    .dataframe tbody tr th:only-of-type {\n        vertical-align: middle;\n    }\n\n    .dataframe tbody tr th {\n        vertical-align: top;\n    }\n\n    .dataframe thead th {\n        text-align: right;\n    }\n</style>\n<table border=\"1\" class=\"dataframe\">\n  <thead>\n    <tr style=\"text-align: right;\">\n      <th></th>\n      <th>discipline_title</th>\n      <th>event_title</th>\n      <th>slug_game</th>\n      <th>participant_type</th>\n      <th>medal_type</th>\n      <th>athletes</th>\n      <th>rank_equal</th>\n      <th>rank_position</th>\n      <th>country_name</th>\n      <th>country_code</th>\n      <th>...</th>\n      <th>value_unit</th>\n      <th>value_type</th>\n      <th>event_gender</th>\n      <th>game_slug</th>\n      <th>game_end_date</th>\n      <th>game_start_date</th>\n      <th>game_location</th>\n      <th>game_name</th>\n      <th>game_season</th>\n      <th>game_year</th>\n    </tr>\n  </thead>\n  <tbody>\n    <tr>\n      <th>88071</th>\n      <td>Cycling Track</td>\n      <td>sprint women</td>\n      <td>seoul-1988</td>\n      <td>Athlete</td>\n      <td>SILVER</td>\n      <td>[('Christa LUDING-ROTHENBURGER', 'https://olym...</td>\n      <td>NaN</td>\n      <td>2</td>\n      <td>German Democratic Republic (Germany)</td>\n      <td>DDDE</td>\n      <td>...</td>\n      <td>NaN</td>\n      <td>NaN</td>\n      <td>Women</td>\n      <td>seoul-1988</td>\n      <td>1988-10-02T10:00:00Z</td>\n      <td>1988-09-16T22:00:00Z</td>\n      <td>Republic of Korea</td>\n      <td>Seoul 1988</td>\n      <td>Summer</td>\n      <td>1988</td>\n    </tr>\n  </tbody>\n</table>\n<p>1 rows × 21 columns</p>\n</div>"
     },
     "execution_count": 20,
     "metadata": {},
     "output_type": "execute_result"
    }
   ]
  },
  {
   "cell_type": "code",
   "source": [
    "print(\"Christa Ludinger-Rothenburger have won summer and winter medals, and at same year 1988\")"
   ],
   "metadata": {
    "colab": {
     "base_uri": "https://localhost:8080/"
    },
    "id": "I7FgsqnfWU2x",
    "outputId": "fd18692d-ab06-49a7-a23e-fa7cd75a5a97",
    "ExecuteTime": {
     "end_time": "2024-05-30T10:37:24.856184300Z",
     "start_time": "2024-05-30T10:37:24.801250800Z"
    }
   },
   "execution_count": 21,
   "outputs": [
    {
     "name": "stdout",
     "output_type": "stream",
     "text": [
      "Christa Ludinger-Rothenburger have won summer and winter medals, and at same year 1988\n"
     ]
    }
   ]
  },
  {
   "cell_type": "code",
   "source": [
    "# Q6. From 1924 to 1992, the winter and summer Olympics were held in the same year. Now, they are organized according to separate cycles with an alternation of 2 years?"
   ],
   "metadata": {
    "id": "GfdQNV-2WhwX",
    "ExecuteTime": {
     "end_time": "2024-05-30T10:37:25.729086Z",
     "start_time": "2024-05-30T10:37:25.631870200Z"
    }
   },
   "execution_count": 22,
   "outputs": []
  },
  {
   "cell_type": "code",
   "source": [
    "df_hosts_before_1992 = df_hosts[df_hosts['game_year'] <= 1992]\n",
    "df_hosts_before_1992.head()"
   ],
   "metadata": {
    "colab": {
     "base_uri": "https://localhost:8080/",
     "height": 206
    },
    "id": "oYMXNqHGWpPr",
    "outputId": "ca5c9bff-3bb3-482d-f474-cfd2dfba3a66",
    "ExecuteTime": {
     "end_time": "2024-05-30T10:37:26.702990400Z",
     "start_time": "2024-05-30T10:37:26.638512200Z"
    }
   },
   "execution_count": 23,
   "outputs": [
    {
     "data": {
      "text/plain": "           game_slug         game_end_date       game_start_date  \\\n15    barcelona-1992  1992-08-09T18:00:00Z  1992-07-25T06:00:00Z   \n16  albertville-1992  1992-02-23T19:00:00Z  1992-02-08T07:00:00Z   \n17        seoul-1988  1988-10-02T10:00:00Z  1988-09-16T22:00:00Z   \n18      calgary-1988  1988-02-28T03:00:00Z  1988-02-13T15:00:00Z   \n19  los-angeles-1984  1984-08-12T19:00:00Z  1984-07-28T15:00:00Z   \n\n        game_location         game_name game_season  game_year  \n15              Spain    Barcelona 1992      Summer       1992  \n16             France  Albertville 1992      Winter       1992  \n17  Republic of Korea        Seoul 1988      Summer       1988  \n18             Canada      Calgary 1988      Winter       1988  \n19      United States  Los Angeles 1984      Summer       1984  ",
      "text/html": "<div>\n<style scoped>\n    .dataframe tbody tr th:only-of-type {\n        vertical-align: middle;\n    }\n\n    .dataframe tbody tr th {\n        vertical-align: top;\n    }\n\n    .dataframe thead th {\n        text-align: right;\n    }\n</style>\n<table border=\"1\" class=\"dataframe\">\n  <thead>\n    <tr style=\"text-align: right;\">\n      <th></th>\n      <th>game_slug</th>\n      <th>game_end_date</th>\n      <th>game_start_date</th>\n      <th>game_location</th>\n      <th>game_name</th>\n      <th>game_season</th>\n      <th>game_year</th>\n    </tr>\n  </thead>\n  <tbody>\n    <tr>\n      <th>15</th>\n      <td>barcelona-1992</td>\n      <td>1992-08-09T18:00:00Z</td>\n      <td>1992-07-25T06:00:00Z</td>\n      <td>Spain</td>\n      <td>Barcelona 1992</td>\n      <td>Summer</td>\n      <td>1992</td>\n    </tr>\n    <tr>\n      <th>16</th>\n      <td>albertville-1992</td>\n      <td>1992-02-23T19:00:00Z</td>\n      <td>1992-02-08T07:00:00Z</td>\n      <td>France</td>\n      <td>Albertville 1992</td>\n      <td>Winter</td>\n      <td>1992</td>\n    </tr>\n    <tr>\n      <th>17</th>\n      <td>seoul-1988</td>\n      <td>1988-10-02T10:00:00Z</td>\n      <td>1988-09-16T22:00:00Z</td>\n      <td>Republic of Korea</td>\n      <td>Seoul 1988</td>\n      <td>Summer</td>\n      <td>1988</td>\n    </tr>\n    <tr>\n      <th>18</th>\n      <td>calgary-1988</td>\n      <td>1988-02-28T03:00:00Z</td>\n      <td>1988-02-13T15:00:00Z</td>\n      <td>Canada</td>\n      <td>Calgary 1988</td>\n      <td>Winter</td>\n      <td>1988</td>\n    </tr>\n    <tr>\n      <th>19</th>\n      <td>los-angeles-1984</td>\n      <td>1984-08-12T19:00:00Z</td>\n      <td>1984-07-28T15:00:00Z</td>\n      <td>United States</td>\n      <td>Los Angeles 1984</td>\n      <td>Summer</td>\n      <td>1984</td>\n    </tr>\n  </tbody>\n</table>\n</div>"
     },
     "execution_count": 23,
     "metadata": {},
     "output_type": "execute_result"
    }
   ]
  },
  {
   "cell_type": "code",
   "source": [
    "df_hosts_after_1992 = df_hosts[df_hosts['game_year'] > 1992]\n",
    "df_hosts_after_1992.head()"
   ],
   "metadata": {
    "colab": {
     "base_uri": "https://localhost:8080/",
     "height": 206
    },
    "id": "upJMFAj-XTYM",
    "outputId": "a00f7683-2ace-4953-f991-d3d9cad5d434",
    "ExecuteTime": {
     "end_time": "2024-05-30T10:37:27.822127Z",
     "start_time": "2024-05-30T10:37:27.708110500Z"
    }
   },
   "execution_count": 24,
   "outputs": [
    {
     "data": {
      "text/plain": "          game_slug         game_end_date       game_start_date  \\\n0      beijing-2022  2022-02-20T12:00:00Z  2022-02-04T15:00:00Z   \n1        tokyo-2020  2021-08-08T14:00:00Z  2021-07-23T11:00:00Z   \n2  pyeongchang-2018  2018-02-25T08:00:00Z  2018-02-08T23:00:00Z   \n3          rio-2016  2016-08-21T21:00:00Z  2016-08-05T12:00:00Z   \n4        sochi-2014  2014-02-23T16:00:00Z  2014-02-07T04:00:00Z   \n\n        game_location         game_name game_season  game_year  \n0               China      Beijing 2022      Winter       2022  \n1               Japan        Tokyo 2020      Summer       2020  \n2   Republic of Korea  PyeongChang 2018      Winter       2018  \n3              Brazil          Rio 2016      Summer       2016  \n4  Russian Federation        Sochi 2014      Winter       2014  ",
      "text/html": "<div>\n<style scoped>\n    .dataframe tbody tr th:only-of-type {\n        vertical-align: middle;\n    }\n\n    .dataframe tbody tr th {\n        vertical-align: top;\n    }\n\n    .dataframe thead th {\n        text-align: right;\n    }\n</style>\n<table border=\"1\" class=\"dataframe\">\n  <thead>\n    <tr style=\"text-align: right;\">\n      <th></th>\n      <th>game_slug</th>\n      <th>game_end_date</th>\n      <th>game_start_date</th>\n      <th>game_location</th>\n      <th>game_name</th>\n      <th>game_season</th>\n      <th>game_year</th>\n    </tr>\n  </thead>\n  <tbody>\n    <tr>\n      <th>0</th>\n      <td>beijing-2022</td>\n      <td>2022-02-20T12:00:00Z</td>\n      <td>2022-02-04T15:00:00Z</td>\n      <td>China</td>\n      <td>Beijing 2022</td>\n      <td>Winter</td>\n      <td>2022</td>\n    </tr>\n    <tr>\n      <th>1</th>\n      <td>tokyo-2020</td>\n      <td>2021-08-08T14:00:00Z</td>\n      <td>2021-07-23T11:00:00Z</td>\n      <td>Japan</td>\n      <td>Tokyo 2020</td>\n      <td>Summer</td>\n      <td>2020</td>\n    </tr>\n    <tr>\n      <th>2</th>\n      <td>pyeongchang-2018</td>\n      <td>2018-02-25T08:00:00Z</td>\n      <td>2018-02-08T23:00:00Z</td>\n      <td>Republic of Korea</td>\n      <td>PyeongChang 2018</td>\n      <td>Winter</td>\n      <td>2018</td>\n    </tr>\n    <tr>\n      <th>3</th>\n      <td>rio-2016</td>\n      <td>2016-08-21T21:00:00Z</td>\n      <td>2016-08-05T12:00:00Z</td>\n      <td>Brazil</td>\n      <td>Rio 2016</td>\n      <td>Summer</td>\n      <td>2016</td>\n    </tr>\n    <tr>\n      <th>4</th>\n      <td>sochi-2014</td>\n      <td>2014-02-23T16:00:00Z</td>\n      <td>2014-02-07T04:00:00Z</td>\n      <td>Russian Federation</td>\n      <td>Sochi 2014</td>\n      <td>Winter</td>\n      <td>2014</td>\n    </tr>\n  </tbody>\n</table>\n</div>"
     },
     "execution_count": 24,
     "metadata": {},
     "output_type": "execute_result"
    }
   ]
  },
  {
   "cell_type": "code",
   "source": [
    "print(\"Before 1993, summer and winter olympic games was at same time, not more since 1993, summer is always +2 than winter\")"
   ],
   "metadata": {
    "colab": {
     "base_uri": "https://localhost:8080/"
    },
    "id": "cCmIKH_lXgvZ",
    "outputId": "95c9536f-4ce2-447a-a218-17568736f166",
    "ExecuteTime": {
     "end_time": "2024-05-30T10:37:29.062677500Z",
     "start_time": "2024-05-30T10:37:28.616259500Z"
    }
   },
   "execution_count": 25,
   "outputs": [
    {
     "name": "stdout",
     "output_type": "stream",
     "text": [
      "Before 1993, summer and winter olympic games was at same time, not more since 1993, summer is always +2 than winter\n"
     ]
    }
   ]
  },
  {
   "cell_type": "code",
   "source": [
    "#Q7. Tarzan himself participated in the Olympics. Indeed, Johnny Weissmuller, former athlete turned actor and who played 12 films of Tarzan, won 5 gold medals in swimming in the 1920s?"
   ],
   "metadata": {
    "id": "AebpmYw4Xsjp",
    "ExecuteTime": {
     "end_time": "2024-05-30T10:37:30.068688700Z",
     "start_time": "2024-05-30T10:37:30.014610600Z"
    }
   },
   "execution_count": 26,
   "outputs": []
  },
  {
   "cell_type": "code",
   "source": [
    "df_athletes = pd.read_csv('../clean_data/data/output//athletes.csv')\n",
    "df_athletes.head()"
   ],
   "metadata": {
    "colab": {
     "base_uri": "https://localhost:8080/",
     "height": 206
    },
    "id": "aLtAJzdcXxOs",
    "outputId": "35c421c6-802d-493d-c483-d485cb79437e",
    "ExecuteTime": {
     "end_time": "2024-05-30T10:37:31.493977600Z",
     "start_time": "2024-05-30T10:37:30.762239100Z"
    }
   },
   "execution_count": 27,
   "outputs": [
    {
     "data": {
      "text/plain": "                                         athlete_url       athlete_full_name  \\\n0  https://olympics.com/en/athletes/cooper-woods-...  Cooper WOODS-TOPALOVIC   \n1          https://olympics.com/en/athletes/elofsson          Felix ELOFSSON   \n2     https://olympics.com/en/athletes/dylan-walczyk           Dylan WALCZYK   \n3     https://olympics.com/en/athletes/olli-penttala           Olli PENTTALA   \n4          https://olympics.com/en/athletes/reikherd        Dmitriy REIKHERD   \n\n   games_participations        first_game  athlete_year_birth athlete_medals  \\\n0                     1      Beijing 2022              2000.0            NaN   \n1                     2  PyeongChang 2018              1995.0            NaN   \n2                     1      Beijing 2022              1993.0            NaN   \n3                     1      Beijing 2022              1995.0            NaN   \n4                     1      Beijing 2022              1989.0            NaN   \n\n   bio  \n0  NaN  \n1  NaN  \n2  NaN  \n3  NaN  \n4  NaN  ",
      "text/html": "<div>\n<style scoped>\n    .dataframe tbody tr th:only-of-type {\n        vertical-align: middle;\n    }\n\n    .dataframe tbody tr th {\n        vertical-align: top;\n    }\n\n    .dataframe thead th {\n        text-align: right;\n    }\n</style>\n<table border=\"1\" class=\"dataframe\">\n  <thead>\n    <tr style=\"text-align: right;\">\n      <th></th>\n      <th>athlete_url</th>\n      <th>athlete_full_name</th>\n      <th>games_participations</th>\n      <th>first_game</th>\n      <th>athlete_year_birth</th>\n      <th>athlete_medals</th>\n      <th>bio</th>\n    </tr>\n  </thead>\n  <tbody>\n    <tr>\n      <th>0</th>\n      <td>https://olympics.com/en/athletes/cooper-woods-...</td>\n      <td>Cooper WOODS-TOPALOVIC</td>\n      <td>1</td>\n      <td>Beijing 2022</td>\n      <td>2000.0</td>\n      <td>NaN</td>\n      <td>NaN</td>\n    </tr>\n    <tr>\n      <th>1</th>\n      <td>https://olympics.com/en/athletes/elofsson</td>\n      <td>Felix ELOFSSON</td>\n      <td>2</td>\n      <td>PyeongChang 2018</td>\n      <td>1995.0</td>\n      <td>NaN</td>\n      <td>NaN</td>\n    </tr>\n    <tr>\n      <th>2</th>\n      <td>https://olympics.com/en/athletes/dylan-walczyk</td>\n      <td>Dylan WALCZYK</td>\n      <td>1</td>\n      <td>Beijing 2022</td>\n      <td>1993.0</td>\n      <td>NaN</td>\n      <td>NaN</td>\n    </tr>\n    <tr>\n      <th>3</th>\n      <td>https://olympics.com/en/athletes/olli-penttala</td>\n      <td>Olli PENTTALA</td>\n      <td>1</td>\n      <td>Beijing 2022</td>\n      <td>1995.0</td>\n      <td>NaN</td>\n      <td>NaN</td>\n    </tr>\n    <tr>\n      <th>4</th>\n      <td>https://olympics.com/en/athletes/reikherd</td>\n      <td>Dmitriy REIKHERD</td>\n      <td>1</td>\n      <td>Beijing 2022</td>\n      <td>1989.0</td>\n      <td>NaN</td>\n      <td>NaN</td>\n    </tr>\n  </tbody>\n</table>\n</div>"
     },
     "execution_count": 27,
     "metadata": {},
     "output_type": "execute_result"
    }
   ]
  },
  {
   "cell_type": "code",
   "source": [
    "johnnyweissmuller_df = df_athletes[df_athletes['athlete_full_name'] == 'Johnny WEISSMULLER']\n",
    "johnnyweissmuller_df.iloc[0]['athlete_medals']"
   ],
   "metadata": {
    "colab": {
     "base_uri": "https://localhost:8080/",
     "height": 35
    },
    "id": "wbKNaNnrZGs9",
    "outputId": "1f66f405-381a-4b4d-aca2-76c781b91c47",
    "ExecuteTime": {
     "end_time": "2024-05-30T10:37:32.254787300Z",
     "start_time": "2024-05-30T10:37:32.195812Z"
    }
   },
   "execution_count": 28,
   "outputs": [
    {
     "data": {
      "text/plain": "'5G1B'"
     },
     "execution_count": 28,
     "metadata": {},
     "output_type": "execute_result"
    }
   ]
  },
  {
   "cell_type": "code",
   "source": [
    "print('Tarzan actor won 5 golden medals and one bronze')"
   ],
   "metadata": {
    "colab": {
     "base_uri": "https://localhost:8080/"
    },
    "id": "-KFjl28bZLyg",
    "outputId": "830d31fe-ef82-4873-d5bc-962b1630f23f",
    "ExecuteTime": {
     "end_time": "2024-05-30T10:37:33.184125800Z",
     "start_time": "2024-05-30T10:37:33.073100900Z"
    }
   },
   "execution_count": 29,
   "outputs": [
    {
     "name": "stdout",
     "output_type": "stream",
     "text": [
      "Tarzan actor won 5 golden medals and one bronze\n"
     ]
    }
   ]
  },
  {
   "cell_type": "code",
   "source": [
    "# Q8. The 2012 London Olympics were the first Olympics in which all participating countries sent female athletes?"
   ],
   "metadata": {
    "id": "i23tgh73bBMj",
    "ExecuteTime": {
     "end_time": "2024-05-30T10:37:33.879625800Z",
     "start_time": "2024-05-30T10:37:33.848137400Z"
    }
   },
   "execution_count": 30,
   "outputs": []
  },
  {
   "cell_type": "code",
   "source": [
    "slug_london = 'london-2012'\n",
    "\n",
    "countries_participating = merged_df_hosts[merged_df_hosts['slug_game'] == slug_london]"
   ],
   "metadata": {
    "colab": {
     "base_uri": "https://localhost:8080/",
     "height": 394
    },
    "id": "YncynMftb22u",
    "outputId": "40e1064b-8b6b-49ab-94d2-5c21d198f89c",
    "ExecuteTime": {
     "end_time": "2024-05-30T10:37:34.695981900Z",
     "start_time": "2024-05-30T10:37:34.637417Z"
    }
   },
   "execution_count": 31,
   "outputs": []
  },
  {
   "cell_type": "code",
   "source": [
    "for country in countries_participating['country_name'].unique():\n",
    "  curr_df_country = merged_df_hosts[(merged_df_hosts['slug_game'] == slug_london) & (merged_df_hosts['country_name'] == country) & (merged_df_hosts['event_gender'].str.lower() != 'men')]\n",
    "  print(f\"{country} {len(curr_df_country)}\")"
   ],
   "metadata": {
    "colab": {
     "base_uri": "https://localhost:8080/"
    },
    "id": "ExlbToCacOQ6",
    "outputId": "c6acae51-4434-4e5b-e64f-21e3a2b771f1",
    "ExecuteTime": {
     "end_time": "2024-05-30T10:37:47.046453700Z",
     "start_time": "2024-05-30T10:37:35.438710300Z"
    }
   },
   "execution_count": 32,
   "outputs": [
    {
     "name": "stdout",
     "output_type": "stream",
     "text": [
      "United States of America 200\n",
      "Australia 128\n",
      "Japan 103\n",
      "Russian Federation 165\n",
      "Great Britain 162\n",
      "People's Republic of China 146\n",
      "Canada 112\n",
      "Czech Republic 48\n",
      "France 103\n",
      "Italy 94\n",
      "Zimbabwe 5\n",
      "Denmark 43\n",
      "Ukraine 97\n",
      "Spain 75\n",
      "Netherlands 63\n",
      "Germany 140\n",
      "Mexico 43\n",
      "Brazil 64\n",
      "Poland 74\n",
      "Singapore 16\n",
      "Colombia 34\n",
      "Belgium 33\n",
      "New Zealand 49\n",
      "Bulgaria 22\n",
      "Iceland 9\n",
      "Ireland 30\n",
      "Slovenia 36\n",
      "Sweden 60\n",
      "Croatia 18\n",
      "Hungary 58\n",
      "Kazakhstan 35\n",
      "Hong Kong, China 21\n",
      "Turkey 35\n",
      "Honduras 2\n",
      "Andorra 1\n",
      "Uruguay 2\n",
      "Armenia 4\n",
      "Monaco 1\n",
      "South Africa 30\n",
      "Serbia 26\n",
      "Austria 29\n",
      "Kenya 16\n",
      "Papua New Guinea 3\n",
      "Republic of Korea 74\n",
      "Venezuela 32\n",
      "Portugal 32\n",
      "Switzerland 29\n",
      "Belarus 58\n",
      "Paraguay 4\n",
      "Azerbaijan 16\n",
      "Lithuania 23\n",
      "Greece 23\n",
      "Libya 0\n",
      "Iraq 2\n",
      "Bahrain 7\n",
      "Israel 11\n",
      "Uzbekistan 15\n",
      "Slovakia 23\n",
      "Chinese Taipei 29\n",
      "Finland 29\n",
      "Cuba 38\n",
      "Jamaica 18\n",
      "Morocco 13\n",
      "Saint Lucia 2\n",
      "Republic of Moldova 6\n",
      "Bosnia and Herzegovina 2\n",
      "Guam 2\n",
      "Fiji 2\n",
      "Mongolia 14\n",
      "Guinea 1\n",
      "Luxembourg 4\n",
      "Georgia 7\n",
      "Thailand 20\n",
      "Kyrgyzstan 3\n",
      "Madagascar 3\n",
      "Estonia 10\n",
      "Panama 1\n",
      "Romania 37\n",
      "Senegal 5\n",
      "Syrian Arab Republic 5\n",
      "Tonga 1\n",
      "United Arab Emirates 1\n",
      "Suriname 1\n",
      "Lebanon 6\n",
      "Norway 17\n",
      "Trinidad and Tobago 6\n",
      "Indonesia 8\n",
      "Barbados 0\n",
      "Argentina 23\n",
      "Sri Lanka 2\n",
      "Zambia 1\n",
      "Bermuda 2\n",
      "Cayman Islands 1\n",
      "Egypt 27\n",
      "Swaziland 0\n",
      "Jordan 4\n",
      "Mozambique 1\n",
      "Bangladesh 1\n",
      "Federated States of Micronesia 1\n",
      "Cook Islands 4\n",
      "Burkina Faso 2\n",
      "Congo 2\n",
      "Ivory Coast 5\n",
      "Saint Vincent and the Grenadines 0\n",
      "Marshall Islands 1\n",
      "Nepal 2\n",
      "Cambodia 2\n",
      "Djibouti 2\n",
      "Sudan 1\n",
      "American Samoa 1\n",
      "Rwanda 2\n",
      "Uganda 2\n",
      "Cameroon 5\n",
      "Central African Republic 2\n",
      "Lao People's Democratic Republic 0\n",
      "Ethiopia 15\n",
      "Benin 0\n",
      "Ecuador 12\n",
      "Angola 4\n",
      "The Former Yugoslav Republic of Macedonia 1\n",
      "El Salvador 5\n",
      "Qatar 4\n",
      "Tunisia 21\n",
      "Cyprus 3\n",
      "Mauritius 5\n",
      "Seychelles 1\n",
      "Nicaragua 2\n",
      "Albania 3\n",
      "Dominican Republic 6\n",
      "Costa Rica 2\n",
      "Peru 7\n",
      "Philippines 3\n",
      "Puerto Rico 3\n",
      "Brunei 0\n",
      "Chile 19\n",
      "Liechtenstein 3\n",
      "Malaysia 13\n",
      "Aruba 1\n",
      "Bahamas 2\n",
      "Latvia 13\n",
      "Malta 1\n",
      "Malawi 1\n",
      "Kuwait 3\n",
      "Palau 2\n",
      "Palestine 1\n",
      "Antigua and Barbuda 1\n",
      "Tajikistan 2\n",
      "Mali 2\n",
      "Maldives 1\n",
      "Burundi 4\n",
      "Niger 1\n",
      "Togo 1\n",
      "Lesotho 2\n",
      "Turkmenistan 2\n",
      "India 22\n",
      "Algeria 7\n",
      "US Virgin Islands 1\n",
      "Guatemala 7\n",
      "Bolivia 2\n",
      "Islamic Republic of Iran 11\n",
      "Grenada 2\n",
      "Guyana 1\n",
      "Pakistan 1\n",
      "United Republic of Tanzania 1\n",
      "San Marino 2\n",
      "Comoros 1\n",
      "Vietnam 11\n",
      "Democratic People's Republic of Korea 20\n",
      "Saudi Arabia 6\n",
      "Nigeria 11\n",
      "Namibia 3\n",
      "Gabon 1\n",
      "Montenegro 2\n",
      "Independent Olympic Athletes 1\n",
      "Botswana 1\n",
      "Eritrea 1\n",
      "Haiti 2\n",
      "Saint Kitts and Nevis 0\n",
      "Oman 0\n",
      "Myanmar 3\n",
      "Democratic Republic of Timor-Leste 1\n",
      "Ghana 2\n",
      "Liberia 0\n",
      "Democratic Republic of the Congo 0\n",
      "Samoa 3\n",
      "Bhutan 2\n",
      "Guinea-Bissau 1\n",
      "Afghanistan 0\n",
      "Vanuatu 1\n",
      "Nauru 0\n",
      "Tuvalu 0\n",
      "Kiribati 0\n",
      "Solomon Islands 1\n",
      "Chad 1\n",
      "Belize 0\n",
      "Cape Verde 1\n",
      "Yemen 0\n"
     ]
    }
   ]
  },
  {
   "cell_type": "code",
   "source": [
    "print(\"Not all country have send women athletes to London 2012\")"
   ],
   "metadata": {
    "colab": {
     "base_uri": "https://localhost:8080/"
    },
    "id": "yKtHxcybdpta",
    "outputId": "41a89885-de8b-41bd-d7cf-4b0b109062fa",
    "ExecuteTime": {
     "end_time": "2024-05-30T10:37:54.090637300Z",
     "start_time": "2024-05-30T10:37:54.079816800Z"
    }
   },
   "execution_count": 33,
   "outputs": [
    {
     "name": "stdout",
     "output_type": "stream",
     "text": [
      "Not all country have send women athletes to London 2012\n"
     ]
    }
   ]
  },
  {
   "cell_type": "code",
   "source": [
    "#Q9. The following sports are (unfortunately) no longer part of the YO: Solo Synchronized Swimming, Rope Shooting, Rope Climbing, Hot Air Balloon, Pistol Duel, Tandem Bike, Obstacle Swimming and Remote Diving. Luckily, pigeon shooting was set up only once during the 1900 Paris Olympics?"
   ],
   "metadata": {
    "id": "WEl8dwBkeCpj",
    "ExecuteTime": {
     "end_time": "2024-05-30T10:37:55.118742700Z",
     "start_time": "2024-05-30T10:37:55.108753900Z"
    }
   },
   "execution_count": 34,
   "outputs": []
  },
  {
   "cell_type": "code",
   "source": [
    "results_shootin_pigeons = merged_df_hosts[merged_df_hosts['event_title'] == 'clay pigeons team men']\n",
    "results_shootin_pigeons.head()"
   ],
   "metadata": {
    "colab": {
     "base_uri": "https://localhost:8080/",
     "height": 196
    },
    "id": "nVMhRW5UfTtc",
    "outputId": "f5106910-bf25-48d7-d26e-d98cbb788ed1",
    "ExecuteTime": {
     "end_time": "2024-05-30T10:37:56.040455700Z",
     "start_time": "2024-05-30T10:37:56.012933300Z"
    }
   },
   "execution_count": 35,
   "outputs": [
    {
     "data": {
      "text/plain": "       discipline_title            event_title   slug_game participant_type  \\\n150219         Shooting  clay pigeons team men  paris-1924         GameTeam   \n150220         Shooting  clay pigeons team men  paris-1924         GameTeam   \n150221         Shooting  clay pigeons team men  paris-1924         GameTeam   \n150222         Shooting  clay pigeons team men  paris-1924         GameTeam   \n150223         Shooting  clay pigeons team men  paris-1924         GameTeam   \n\n       medal_type athletes rank_equal rank_position              country_name  \\\n150219       GOLD      NaN        NaN             1  United States of America   \n150220     SILVER      NaN        NaN             2                    Canada   \n150221     BRONZE      NaN        NaN             3                   Finland   \n150222        NaN      NaN        NaN             4                   Belgium   \n150223        NaN      NaN        NaN             4                    Sweden   \n\n       country_code  ... value_unit value_type event_gender   game_slug  \\\n150219           US  ...        363     POINTS          Men  paris-1924   \n150220           CA  ...        360     POINTS          Men  paris-1924   \n150221           FI  ...        360     POINTS          Men  paris-1924   \n150222           BE  ...        354     POINTS          Men  paris-1924   \n150223           SE  ...        354     POINTS          Men  paris-1924   \n\n               game_end_date       game_start_date game_location   game_name  \\\n150219  1924-07-27T19:00:00Z  1924-05-04T07:00:00Z        France  Paris 1924   \n150220  1924-07-27T19:00:00Z  1924-05-04T07:00:00Z        France  Paris 1924   \n150221  1924-07-27T19:00:00Z  1924-05-04T07:00:00Z        France  Paris 1924   \n150222  1924-07-27T19:00:00Z  1924-05-04T07:00:00Z        France  Paris 1924   \n150223  1924-07-27T19:00:00Z  1924-05-04T07:00:00Z        France  Paris 1924   \n\n       game_season game_year  \n150219      Summer      1924  \n150220      Summer      1924  \n150221      Summer      1924  \n150222      Summer      1924  \n150223      Summer      1924  \n\n[5 rows x 21 columns]",
      "text/html": "<div>\n<style scoped>\n    .dataframe tbody tr th:only-of-type {\n        vertical-align: middle;\n    }\n\n    .dataframe tbody tr th {\n        vertical-align: top;\n    }\n\n    .dataframe thead th {\n        text-align: right;\n    }\n</style>\n<table border=\"1\" class=\"dataframe\">\n  <thead>\n    <tr style=\"text-align: right;\">\n      <th></th>\n      <th>discipline_title</th>\n      <th>event_title</th>\n      <th>slug_game</th>\n      <th>participant_type</th>\n      <th>medal_type</th>\n      <th>athletes</th>\n      <th>rank_equal</th>\n      <th>rank_position</th>\n      <th>country_name</th>\n      <th>country_code</th>\n      <th>...</th>\n      <th>value_unit</th>\n      <th>value_type</th>\n      <th>event_gender</th>\n      <th>game_slug</th>\n      <th>game_end_date</th>\n      <th>game_start_date</th>\n      <th>game_location</th>\n      <th>game_name</th>\n      <th>game_season</th>\n      <th>game_year</th>\n    </tr>\n  </thead>\n  <tbody>\n    <tr>\n      <th>150219</th>\n      <td>Shooting</td>\n      <td>clay pigeons team men</td>\n      <td>paris-1924</td>\n      <td>GameTeam</td>\n      <td>GOLD</td>\n      <td>NaN</td>\n      <td>NaN</td>\n      <td>1</td>\n      <td>United States of America</td>\n      <td>US</td>\n      <td>...</td>\n      <td>363</td>\n      <td>POINTS</td>\n      <td>Men</td>\n      <td>paris-1924</td>\n      <td>1924-07-27T19:00:00Z</td>\n      <td>1924-05-04T07:00:00Z</td>\n      <td>France</td>\n      <td>Paris 1924</td>\n      <td>Summer</td>\n      <td>1924</td>\n    </tr>\n    <tr>\n      <th>150220</th>\n      <td>Shooting</td>\n      <td>clay pigeons team men</td>\n      <td>paris-1924</td>\n      <td>GameTeam</td>\n      <td>SILVER</td>\n      <td>NaN</td>\n      <td>NaN</td>\n      <td>2</td>\n      <td>Canada</td>\n      <td>CA</td>\n      <td>...</td>\n      <td>360</td>\n      <td>POINTS</td>\n      <td>Men</td>\n      <td>paris-1924</td>\n      <td>1924-07-27T19:00:00Z</td>\n      <td>1924-05-04T07:00:00Z</td>\n      <td>France</td>\n      <td>Paris 1924</td>\n      <td>Summer</td>\n      <td>1924</td>\n    </tr>\n    <tr>\n      <th>150221</th>\n      <td>Shooting</td>\n      <td>clay pigeons team men</td>\n      <td>paris-1924</td>\n      <td>GameTeam</td>\n      <td>BRONZE</td>\n      <td>NaN</td>\n      <td>NaN</td>\n      <td>3</td>\n      <td>Finland</td>\n      <td>FI</td>\n      <td>...</td>\n      <td>360</td>\n      <td>POINTS</td>\n      <td>Men</td>\n      <td>paris-1924</td>\n      <td>1924-07-27T19:00:00Z</td>\n      <td>1924-05-04T07:00:00Z</td>\n      <td>France</td>\n      <td>Paris 1924</td>\n      <td>Summer</td>\n      <td>1924</td>\n    </tr>\n    <tr>\n      <th>150222</th>\n      <td>Shooting</td>\n      <td>clay pigeons team men</td>\n      <td>paris-1924</td>\n      <td>GameTeam</td>\n      <td>NaN</td>\n      <td>NaN</td>\n      <td>NaN</td>\n      <td>4</td>\n      <td>Belgium</td>\n      <td>BE</td>\n      <td>...</td>\n      <td>354</td>\n      <td>POINTS</td>\n      <td>Men</td>\n      <td>paris-1924</td>\n      <td>1924-07-27T19:00:00Z</td>\n      <td>1924-05-04T07:00:00Z</td>\n      <td>France</td>\n      <td>Paris 1924</td>\n      <td>Summer</td>\n      <td>1924</td>\n    </tr>\n    <tr>\n      <th>150223</th>\n      <td>Shooting</td>\n      <td>clay pigeons team men</td>\n      <td>paris-1924</td>\n      <td>GameTeam</td>\n      <td>NaN</td>\n      <td>NaN</td>\n      <td>NaN</td>\n      <td>4</td>\n      <td>Sweden</td>\n      <td>SE</td>\n      <td>...</td>\n      <td>354</td>\n      <td>POINTS</td>\n      <td>Men</td>\n      <td>paris-1924</td>\n      <td>1924-07-27T19:00:00Z</td>\n      <td>1924-05-04T07:00:00Z</td>\n      <td>France</td>\n      <td>Paris 1924</td>\n      <td>Summer</td>\n      <td>1924</td>\n    </tr>\n  </tbody>\n</table>\n<p>5 rows × 21 columns</p>\n</div>"
     },
     "execution_count": 35,
     "metadata": {},
     "output_type": "execute_result"
    }
   ]
  },
  {
   "cell_type": "code",
   "source": [
    "print(\"The pigeon shooting did not stop at the 1900 Paris Olympics\")"
   ],
   "metadata": {
    "id": "jDiy9GZ4gZNa",
    "ExecuteTime": {
     "end_time": "2024-05-30T10:37:57.227Z",
     "start_time": "2024-05-30T10:37:57.205479300Z"
    }
   },
   "execution_count": 36,
   "outputs": [
    {
     "name": "stdout",
     "output_type": "stream",
     "text": [
      "The pigeon shooting did not stop at the 1900 Paris Olympics\n"
     ]
    }
   ]
  },
  {
   "cell_type": "code",
   "source": [
    "# Q10. The 2016 Games, in Rio, will mark the 1st event of the Olympics in South America?"
   ],
   "metadata": {
    "id": "pyrbL4FXgtBc",
    "ExecuteTime": {
     "end_time": "2024-05-30T10:37:58.899278500Z",
     "start_time": "2024-05-30T10:37:58.690410500Z"
    }
   },
   "execution_count": 37,
   "outputs": []
  },
  {
   "cell_type": "code",
   "source": [
    "df_hosts['game_location'].unique()"
   ],
   "metadata": {
    "colab": {
     "base_uri": "https://localhost:8080/"
    },
    "id": "qyjF4WNggy8f",
    "outputId": "131a0b1a-76bd-4799-a712-ed5a92e4cf67",
    "ExecuteTime": {
     "end_time": "2024-05-30T10:38:01.410114Z",
     "start_time": "2024-05-30T10:38:01.252661800Z"
    }
   },
   "execution_count": 38,
   "outputs": [
    {
     "data": {
      "text/plain": "array(['China', 'Japan', 'Republic of Korea', 'Brazil',\n       'Russian Federation', 'Great Britain', 'Canada', 'Italy', 'Greece',\n       'United States', 'Australia', 'Norway', 'Spain', 'France',\n       'Yugoslavia', 'USSR', 'Austria', 'Federal Republic of Germany',\n       'Mexico', 'Australia, Sweden', 'Finland', 'Switzerland', 'Germany',\n       'Netherlands', 'Belgium', 'Sweden'], dtype=object)"
     },
     "execution_count": 38,
     "metadata": {},
     "output_type": "execute_result"
    }
   ]
  },
  {
   "cell_type": "code",
   "source": [
    "df_brazil_host = df_hosts[df_hosts['game_location'] == 'Brazil']\n",
    "df_brazil_host.head()"
   ],
   "metadata": {
    "colab": {
     "base_uri": "https://localhost:8080/",
     "height": 81
    },
    "id": "JTK49EdKg8eW",
    "outputId": "04e2d841-cc95-44fc-aa7b-8ae53d1d882f",
    "ExecuteTime": {
     "end_time": "2024-05-30T10:38:06.532463600Z",
     "start_time": "2024-05-30T10:38:06.467414500Z"
    }
   },
   "execution_count": 39,
   "outputs": [
    {
     "data": {
      "text/plain": "  game_slug         game_end_date       game_start_date game_location  \\\n3  rio-2016  2016-08-21T21:00:00Z  2016-08-05T12:00:00Z        Brazil   \n\n  game_name game_season  game_year  \n3  Rio 2016      Summer       2016  ",
      "text/html": "<div>\n<style scoped>\n    .dataframe tbody tr th:only-of-type {\n        vertical-align: middle;\n    }\n\n    .dataframe tbody tr th {\n        vertical-align: top;\n    }\n\n    .dataframe thead th {\n        text-align: right;\n    }\n</style>\n<table border=\"1\" class=\"dataframe\">\n  <thead>\n    <tr style=\"text-align: right;\">\n      <th></th>\n      <th>game_slug</th>\n      <th>game_end_date</th>\n      <th>game_start_date</th>\n      <th>game_location</th>\n      <th>game_name</th>\n      <th>game_season</th>\n      <th>game_year</th>\n    </tr>\n  </thead>\n  <tbody>\n    <tr>\n      <th>3</th>\n      <td>rio-2016</td>\n      <td>2016-08-21T21:00:00Z</td>\n      <td>2016-08-05T12:00:00Z</td>\n      <td>Brazil</td>\n      <td>Rio 2016</td>\n      <td>Summer</td>\n      <td>2016</td>\n    </tr>\n  </tbody>\n</table>\n</div>"
     },
     "execution_count": 39,
     "metadata": {},
     "output_type": "execute_result"
    }
   ]
  },
  {
   "cell_type": "code",
   "source": [
    "print(\"Yes ! The olympic games 2016 at RIO, been first event in sud america\")"
   ],
   "metadata": {
    "colab": {
     "base_uri": "https://localhost:8080/"
    },
    "id": "lTVBEoLQhgB4",
    "outputId": "af089a3b-bd09-4e73-b54b-2aef170d497e",
    "ExecuteTime": {
     "end_time": "2024-05-30T10:38:08.646230200Z",
     "start_time": "2024-05-30T10:38:08.569451700Z"
    }
   },
   "execution_count": 40,
   "outputs": [
    {
     "name": "stdout",
     "output_type": "stream",
     "text": [
      "Yes ! The olympic games 2016 at RIO, been first event in sud america\n"
     ]
    }
   ]
  },
  {
   "cell_type": "code",
   "source": [
    "# Q11. During the 17 days of the 2016 Summer Olympics, 10,500 athletes from 205 countries will represent 42 different sports and participate in 306 events in Rio?"
   ],
   "metadata": {
    "id": "n1e1VvOaho9V",
    "ExecuteTime": {
     "end_time": "2024-05-30T10:38:10.139007Z",
     "start_time": "2024-05-30T10:38:10.076758100Z"
    }
   },
   "execution_count": 41,
   "outputs": []
  },
  {
   "cell_type": "code",
   "source": [
    "results_joBrazil = merged_df_hosts[merged_df_hosts['slug_game'] == 'rio-2016']\n",
    "results_joBrazil.head()"
   ],
   "metadata": {
    "colab": {
     "base_uri": "https://localhost:8080/",
     "height": 342
    },
    "id": "UAKDMrlmh323",
    "outputId": "4a4a40f2-606b-4115-e2be-781344d60274",
    "ExecuteTime": {
     "end_time": "2024-05-30T10:38:11.259674900Z",
     "start_time": "2024-05-30T10:38:11.169012200Z"
    }
   },
   "execution_count": 42,
   "outputs": [
    {
     "data": {
      "text/plain": "      discipline_title       event_title slug_game participant_type  \\\n14354      Cycling BMX  Individual women  rio-2016          Athlete   \n14355      Cycling BMX  Individual women  rio-2016          Athlete   \n14356      Cycling BMX  Individual women  rio-2016          Athlete   \n14357      Cycling BMX  Individual women  rio-2016          Athlete   \n14358      Cycling BMX  Individual women  rio-2016          Athlete   \n\n      medal_type                                           athletes  \\\n14354       GOLD  [('Mariana PAJON', 'https://olympics.com/en/at...   \n14355     SILVER  [('Alise POST', 'https://olympics.com/en/athle...   \n14356     BRONZE  [('Stefany HERNANDEZ', 'https://olympics.com/e...   \n14357        NaN  [('Brooke CRAIN', 'https://olympics.com/en/ath...   \n14358        NaN  [('Yaroslava BONDARENKO', 'https://olympics.co...   \n\n      rank_equal rank_position              country_name country_code  ...  \\\n14354        NaN             1                  Colombia           CO  ...   \n14355        NaN             2  United States of America           US  ...   \n14356        NaN             3                 Venezuela           VE  ...   \n14357        NaN             4  United States of America           US  ...   \n14358        NaN             5        Russian Federation           RU  ...   \n\n         value_unit value_type event_gender game_slug         game_end_date  \\\n14354  00:00:34:093       TIME        Women  rio-2016  2016-08-21T21:00:00Z   \n14355  00:00:34:435       TIME        Women  rio-2016  2016-08-21T21:00:00Z   \n14356  00:00:34:755       TIME        Women  rio-2016  2016-08-21T21:00:00Z   \n14357  00:00:35:520       TIME        Women  rio-2016  2016-08-21T21:00:00Z   \n14358  00:00:36:017       TIME        Women  rio-2016  2016-08-21T21:00:00Z   \n\n            game_start_date game_location game_name game_season game_year  \n14354  2016-08-05T12:00:00Z        Brazil  Rio 2016      Summer      2016  \n14355  2016-08-05T12:00:00Z        Brazil  Rio 2016      Summer      2016  \n14356  2016-08-05T12:00:00Z        Brazil  Rio 2016      Summer      2016  \n14357  2016-08-05T12:00:00Z        Brazil  Rio 2016      Summer      2016  \n14358  2016-08-05T12:00:00Z        Brazil  Rio 2016      Summer      2016  \n\n[5 rows x 21 columns]",
      "text/html": "<div>\n<style scoped>\n    .dataframe tbody tr th:only-of-type {\n        vertical-align: middle;\n    }\n\n    .dataframe tbody tr th {\n        vertical-align: top;\n    }\n\n    .dataframe thead th {\n        text-align: right;\n    }\n</style>\n<table border=\"1\" class=\"dataframe\">\n  <thead>\n    <tr style=\"text-align: right;\">\n      <th></th>\n      <th>discipline_title</th>\n      <th>event_title</th>\n      <th>slug_game</th>\n      <th>participant_type</th>\n      <th>medal_type</th>\n      <th>athletes</th>\n      <th>rank_equal</th>\n      <th>rank_position</th>\n      <th>country_name</th>\n      <th>country_code</th>\n      <th>...</th>\n      <th>value_unit</th>\n      <th>value_type</th>\n      <th>event_gender</th>\n      <th>game_slug</th>\n      <th>game_end_date</th>\n      <th>game_start_date</th>\n      <th>game_location</th>\n      <th>game_name</th>\n      <th>game_season</th>\n      <th>game_year</th>\n    </tr>\n  </thead>\n  <tbody>\n    <tr>\n      <th>14354</th>\n      <td>Cycling BMX</td>\n      <td>Individual women</td>\n      <td>rio-2016</td>\n      <td>Athlete</td>\n      <td>GOLD</td>\n      <td>[('Mariana PAJON', 'https://olympics.com/en/at...</td>\n      <td>NaN</td>\n      <td>1</td>\n      <td>Colombia</td>\n      <td>CO</td>\n      <td>...</td>\n      <td>00:00:34:093</td>\n      <td>TIME</td>\n      <td>Women</td>\n      <td>rio-2016</td>\n      <td>2016-08-21T21:00:00Z</td>\n      <td>2016-08-05T12:00:00Z</td>\n      <td>Brazil</td>\n      <td>Rio 2016</td>\n      <td>Summer</td>\n      <td>2016</td>\n    </tr>\n    <tr>\n      <th>14355</th>\n      <td>Cycling BMX</td>\n      <td>Individual women</td>\n      <td>rio-2016</td>\n      <td>Athlete</td>\n      <td>SILVER</td>\n      <td>[('Alise POST', 'https://olympics.com/en/athle...</td>\n      <td>NaN</td>\n      <td>2</td>\n      <td>United States of America</td>\n      <td>US</td>\n      <td>...</td>\n      <td>00:00:34:435</td>\n      <td>TIME</td>\n      <td>Women</td>\n      <td>rio-2016</td>\n      <td>2016-08-21T21:00:00Z</td>\n      <td>2016-08-05T12:00:00Z</td>\n      <td>Brazil</td>\n      <td>Rio 2016</td>\n      <td>Summer</td>\n      <td>2016</td>\n    </tr>\n    <tr>\n      <th>14356</th>\n      <td>Cycling BMX</td>\n      <td>Individual women</td>\n      <td>rio-2016</td>\n      <td>Athlete</td>\n      <td>BRONZE</td>\n      <td>[('Stefany HERNANDEZ', 'https://olympics.com/e...</td>\n      <td>NaN</td>\n      <td>3</td>\n      <td>Venezuela</td>\n      <td>VE</td>\n      <td>...</td>\n      <td>00:00:34:755</td>\n      <td>TIME</td>\n      <td>Women</td>\n      <td>rio-2016</td>\n      <td>2016-08-21T21:00:00Z</td>\n      <td>2016-08-05T12:00:00Z</td>\n      <td>Brazil</td>\n      <td>Rio 2016</td>\n      <td>Summer</td>\n      <td>2016</td>\n    </tr>\n    <tr>\n      <th>14357</th>\n      <td>Cycling BMX</td>\n      <td>Individual women</td>\n      <td>rio-2016</td>\n      <td>Athlete</td>\n      <td>NaN</td>\n      <td>[('Brooke CRAIN', 'https://olympics.com/en/ath...</td>\n      <td>NaN</td>\n      <td>4</td>\n      <td>United States of America</td>\n      <td>US</td>\n      <td>...</td>\n      <td>00:00:35:520</td>\n      <td>TIME</td>\n      <td>Women</td>\n      <td>rio-2016</td>\n      <td>2016-08-21T21:00:00Z</td>\n      <td>2016-08-05T12:00:00Z</td>\n      <td>Brazil</td>\n      <td>Rio 2016</td>\n      <td>Summer</td>\n      <td>2016</td>\n    </tr>\n    <tr>\n      <th>14358</th>\n      <td>Cycling BMX</td>\n      <td>Individual women</td>\n      <td>rio-2016</td>\n      <td>Athlete</td>\n      <td>NaN</td>\n      <td>[('Yaroslava BONDARENKO', 'https://olympics.co...</td>\n      <td>NaN</td>\n      <td>5</td>\n      <td>Russian Federation</td>\n      <td>RU</td>\n      <td>...</td>\n      <td>00:00:36:017</td>\n      <td>TIME</td>\n      <td>Women</td>\n      <td>rio-2016</td>\n      <td>2016-08-21T21:00:00Z</td>\n      <td>2016-08-05T12:00:00Z</td>\n      <td>Brazil</td>\n      <td>Rio 2016</td>\n      <td>Summer</td>\n      <td>2016</td>\n    </tr>\n  </tbody>\n</table>\n<p>5 rows × 21 columns</p>\n</div>"
     },
     "execution_count": 42,
     "metadata": {},
     "output_type": "execute_result"
    }
   ]
  },
  {
   "cell_type": "code",
   "source": [
    "print(f\" Il y a eu {len(results_joBrazil['discipline_title'].unique())} sports\")"
   ],
   "metadata": {
    "colab": {
     "base_uri": "https://localhost:8080/"
    },
    "id": "Fa8vze6biNSI",
    "outputId": "dbca9325-1c6e-4363-feeb-7cc360be622a",
    "ExecuteTime": {
     "end_time": "2024-05-30T10:38:12.572871400Z",
     "start_time": "2024-05-30T10:38:12.463242400Z"
    }
   },
   "execution_count": 43,
   "outputs": [
    {
     "name": "stdout",
     "output_type": "stream",
     "text": [
      " Il y a eu 41 sports\n"
     ]
    }
   ]
  },
  {
   "cell_type": "code",
   "source": [
    "import numpy as np\n",
    "print(f\"Il y aura {len(np.unique(results_joBrazil[['discipline_title', 'event_title']].values))} épreuves\")"
   ],
   "metadata": {
    "colab": {
     "base_uri": "https://localhost:8080/"
    },
    "id": "SKAgExkkiYyl",
    "outputId": "1ebfe7e1-7a5f-4618-920c-894559460385",
    "ExecuteTime": {
     "end_time": "2024-05-30T10:38:13.649292100Z",
     "start_time": "2024-05-30T10:38:13.422186700Z"
    }
   },
   "execution_count": 44,
   "outputs": [
    {
     "name": "stdout",
     "output_type": "stream",
     "text": [
      "Il y aura 330 épreuves\n"
     ]
    }
   ]
  },
  {
   "cell_type": "code",
   "source": [
    "print(f\" Il y a eu {len(results_joBrazil['country_name'].unique())} pays différents\")"
   ],
   "metadata": {
    "colab": {
     "base_uri": "https://localhost:8080/"
    },
    "id": "7qMo4YbiipKt",
    "outputId": "3a1ae801-3b0e-46d7-f3a3-1cb9131d58f0",
    "ExecuteTime": {
     "end_time": "2024-05-30T10:38:14.754707300Z",
     "start_time": "2024-05-30T10:38:14.578069700Z"
    }
   },
   "execution_count": 45,
   "outputs": [
    {
     "name": "stdout",
     "output_type": "stream",
     "text": [
      " Il y a eu 199 pays différents\n"
     ]
    }
   ]
  },
  {
   "cell_type": "code",
   "source": [
    "# Q12 How many medals has France won: in all, gold, silver and bronze (since the beginning of the Olympics)?"
   ],
   "metadata": {
    "id": "ky86TXjUjaaX",
    "ExecuteTime": {
     "end_time": "2024-05-30T10:38:15.666420Z",
     "start_time": "2024-05-30T10:38:15.543848Z"
    }
   },
   "execution_count": 46,
   "outputs": []
  },
  {
   "cell_type": "code",
   "source": [
    "results_france_gold = len(merged_df_hosts[(merged_df_hosts['country_name'] == 'France') & (merged_df_hosts['medal_type'] == \"GOLD\")])\n",
    "results_france_gold"
   ],
   "metadata": {
    "colab": {
     "base_uri": "https://localhost:8080/"
    },
    "id": "V4WIPOQ2jhbC",
    "outputId": "35dcf956-b1b4-4145-8a16-cc6b74f46040",
    "ExecuteTime": {
     "end_time": "2024-05-30T10:38:16.715279800Z",
     "start_time": "2024-05-30T10:38:16.511773800Z"
    }
   },
   "execution_count": 47,
   "outputs": [
    {
     "data": {
      "text/plain": "261"
     },
     "execution_count": 47,
     "metadata": {},
     "output_type": "execute_result"
    }
   ]
  },
  {
   "cell_type": "code",
   "source": [
    "results_france_silver = len(merged_df_hosts[(merged_df_hosts['country_name'] == 'France') & (merged_df_hosts['medal_type'] == \"SILVER\")])\n",
    "results_france_silver"
   ],
   "metadata": {
    "colab": {
     "base_uri": "https://localhost:8080/"
    },
    "id": "VuwL44oRkDDq",
    "outputId": "19bdabf7-59a1-423b-f0ef-d7de8e9ae50d",
    "ExecuteTime": {
     "end_time": "2024-05-30T10:38:17.580328600Z",
     "start_time": "2024-05-30T10:38:17.469672Z"
    }
   },
   "execution_count": 48,
   "outputs": [
    {
     "data": {
      "text/plain": "289"
     },
     "execution_count": 48,
     "metadata": {},
     "output_type": "execute_result"
    }
   ]
  },
  {
   "cell_type": "code",
   "source": [
    "results_france_bronze = len(merged_df_hosts[(merged_df_hosts['country_name'] == 'France') & (merged_df_hosts['medal_type'] == \"BRONZE\")])\n",
    "results_france_bronze"
   ],
   "metadata": {
    "colab": {
     "base_uri": "https://localhost:8080/"
    },
    "id": "Yo74eDGjkH7H",
    "outputId": "10ebdd93-b514-4c63-c976-8702b291b8ca",
    "ExecuteTime": {
     "end_time": "2024-05-30T10:38:18.843547700Z",
     "start_time": "2024-05-30T10:38:18.614479500Z"
    }
   },
   "execution_count": 49,
   "outputs": [
    {
     "data": {
      "text/plain": "330"
     },
     "execution_count": 49,
     "metadata": {},
     "output_type": "execute_result"
    }
   ]
  },
  {
   "cell_type": "code",
   "source": [
    "# Q13 At which Olympics did France have the most (least) success?"
   ],
   "metadata": {
    "id": "5o0-ITfxkSNG",
    "ExecuteTime": {
     "end_time": "2024-05-30T10:38:19.723037Z",
     "start_time": "2024-05-30T10:38:19.633920800Z"
    }
   },
   "execution_count": 50,
   "outputs": []
  },
  {
   "cell_type": "code",
   "source": [
    "gold_medals_france_by_year = merged_df_hosts[(merged_df_hosts['country_name'] == 'France')].groupby('game_year')['medal_type'].count()\n",
    "gold_medals_france_by_year"
   ],
   "metadata": {
    "colab": {
     "base_uri": "https://localhost:8080/"
    },
    "id": "leFsICJzkrTN",
    "outputId": "fb3dba64-64ed-429a-cd8e-9f5e5e3baf7a",
    "ExecuteTime": {
     "end_time": "2024-05-30T10:38:26.936130800Z",
     "start_time": "2024-05-30T10:38:26.885977800Z"
    }
   },
   "execution_count": 51,
   "outputs": [
    {
     "data": {
      "text/plain": "game_year\n1896    11\n1900    97\n1904     1\n1908    19\n1912    14\n1920    41\n1924    41\n1928    22\n1932    20\n1936    19\n1948    34\n1952    18\n1956    14\n1960     8\n1964    22\n1968    24\n1972    16\n1976    10\n1980    15\n1984    31\n1988    18\n1992    38\n1994     5\n1996    37\n1998     8\n2000    38\n2002    11\n2004    33\n2006     9\n2008    41\n2010    11\n2012    35\n2014    15\n2016    42\n2018    15\n2020    33\n2022    14\nName: medal_type, dtype: int64"
     },
     "execution_count": 51,
     "metadata": {},
     "output_type": "execute_result"
    }
   ]
  },
  {
   "cell_type": "code",
   "source": [
    "year_most_gold = gold_medals_france_by_year.idxmax()\n",
    "\n",
    "year_least_gold = gold_medals_france_by_year.idxmin()\n",
    "\n",
    "print(f\"france best performance was {year_most_gold} and lower was {year_least_gold}\")"
   ],
   "metadata": {
    "colab": {
     "base_uri": "https://localhost:8080/"
    },
    "id": "mViCYfJbk-5p",
    "outputId": "bc7d0eb9-4347-44c0-9fc5-85579dd83714",
    "ExecuteTime": {
     "end_time": "2024-05-30T10:38:28.490044700Z",
     "start_time": "2024-05-30T10:38:28.404387Z"
    }
   },
   "execution_count": 52,
   "outputs": [
    {
     "name": "stdout",
     "output_type": "stream",
     "text": [
      "france best performance was 1900 and lower was 1904\n"
     ]
    }
   ]
  },
  {
   "cell_type": "code",
   "source": [
    "# Q14 Can we consider that France is the great specialist of certain discipline(s) sports (s), compared to other notions? Which/ Which ones?"
   ],
   "metadata": {
    "id": "vUqDNevRldJp",
    "ExecuteTime": {
     "end_time": "2024-05-30T10:38:29.245852200Z",
     "start_time": "2024-05-30T10:38:29.200795400Z"
    }
   },
   "execution_count": 53,
   "outputs": []
  },
  {
   "cell_type": "code",
   "source": [
    "gold_medals_france_by_sports = merged_df_hosts[(merged_df_hosts['country_name'] == 'France')].groupby('discipline_title')['medal_type'].count()\n",
    "gold_medals_france_by_sports.head(10)"
   ],
   "metadata": {
    "colab": {
     "base_uri": "https://localhost:8080/"
    },
    "id": "Fpj13npEll7a",
    "outputId": "867c7691-e464-47f1-ac59-ac2125bfb2ac",
    "ExecuteTime": {
     "end_time": "2024-05-30T10:38:32.430871300Z",
     "start_time": "2024-05-30T10:38:32.347990400Z"
    }
   },
   "execution_count": 54,
   "outputs": [
    {
     "data": {
      "text/plain": "discipline_title\n3x3 Basketball          0\nAlpine Skiing          51\nArchery                25\nArtistic Gymnastics     0\nArtistic Swimming       0\nAthletics              70\nBadminton               0\nBasketball              5\nBeach Volleyball        0\nBiathlon               32\nName: medal_type, dtype: int64"
     },
     "execution_count": 54,
     "metadata": {},
     "output_type": "execute_result"
    }
   ]
  },
  {
   "cell_type": "code",
   "source": [
    "top_5_gold_medals_france_by_sports = gold_medals_france_by_sports.sort_values(ascending=False).head(5)\n",
    "top_5_gold_medals_france_by_sports"
   ],
   "metadata": {
    "colab": {
     "base_uri": "https://localhost:8080/"
    },
    "id": "R_fvjvihmAeR",
    "outputId": "c40b936e-0af2-46ba-a101-61f62d864ad2",
    "ExecuteTime": {
     "end_time": "2024-05-30T10:38:33.298077700Z",
     "start_time": "2024-05-30T10:38:33.165211600Z"
    }
   },
   "execution_count": 55,
   "outputs": [
    {
     "data": {
      "text/plain": "discipline_title\nFencing          123\nAthletics         70\nCycling Track     67\nJudo              57\nAlpine Skiing     51\nName: medal_type, dtype: int64"
     },
     "execution_count": 55,
     "metadata": {},
     "output_type": "execute_result"
    }
   ]
  },
  {
   "cell_type": "markdown",
   "source": [],
   "metadata": {
    "id": "GhWMoCsYmybY"
   }
  },
  {
   "cell_type": "code",
   "source": [
    "medals_by_country_sport = merged_df_hosts.groupby(['country_name', 'discipline_title'])['medal_type'].count().reset_index()\n",
    "medals_by_country_sport.head(5)"
   ],
   "metadata": {
    "colab": {
     "base_uri": "https://localhost:8080/",
     "height": 206
    },
    "id": "A7cIuKC0mr81",
    "outputId": "14876aa8-cbdf-4f7a-bb59-c1ba9ac3fbcd",
    "ExecuteTime": {
     "end_time": "2024-05-30T10:38:40.805060800Z",
     "start_time": "2024-05-30T10:38:40.738624100Z"
    }
   },
   "execution_count": 56,
   "outputs": [
    {
     "data": {
      "text/plain": "  country_name discipline_title  medal_type\n0  Afghanistan        Athletics           0\n1  Afghanistan           Boxing           0\n2  Afghanistan         Football           0\n3  Afghanistan           Hockey           0\n4  Afghanistan             Judo           0",
      "text/html": "<div>\n<style scoped>\n    .dataframe tbody tr th:only-of-type {\n        vertical-align: middle;\n    }\n\n    .dataframe tbody tr th {\n        vertical-align: top;\n    }\n\n    .dataframe thead th {\n        text-align: right;\n    }\n</style>\n<table border=\"1\" class=\"dataframe\">\n  <thead>\n    <tr style=\"text-align: right;\">\n      <th></th>\n      <th>country_name</th>\n      <th>discipline_title</th>\n      <th>medal_type</th>\n    </tr>\n  </thead>\n  <tbody>\n    <tr>\n      <th>0</th>\n      <td>Afghanistan</td>\n      <td>Athletics</td>\n      <td>0</td>\n    </tr>\n    <tr>\n      <th>1</th>\n      <td>Afghanistan</td>\n      <td>Boxing</td>\n      <td>0</td>\n    </tr>\n    <tr>\n      <th>2</th>\n      <td>Afghanistan</td>\n      <td>Football</td>\n      <td>0</td>\n    </tr>\n    <tr>\n      <th>3</th>\n      <td>Afghanistan</td>\n      <td>Hockey</td>\n      <td>0</td>\n    </tr>\n    <tr>\n      <th>4</th>\n      <td>Afghanistan</td>\n      <td>Judo</td>\n      <td>0</td>\n    </tr>\n  </tbody>\n</table>\n</div>"
     },
     "execution_count": 56,
     "metadata": {},
     "output_type": "execute_result"
    }
   ]
  },
  {
   "cell_type": "code",
   "source": [
    "disciplines_only = [discipline for discipline, count in list(top_5_gold_medals_france_by_sports.items())]\n",
    "disciplines_only"
   ],
   "metadata": {
    "colab": {
     "base_uri": "https://localhost:8080/"
    },
    "id": "9Gism8t3nL8Y",
    "outputId": "b9bd8a2f-7291-405e-80d1-785c6eee7382",
    "ExecuteTime": {
     "end_time": "2024-05-30T10:38:41.755662800Z",
     "start_time": "2024-05-30T10:38:41.628205800Z"
    }
   },
   "execution_count": 57,
   "outputs": [
    {
     "data": {
      "text/plain": "['Fencing', 'Athletics', 'Cycling Track', 'Judo', 'Alpine Skiing']"
     },
     "execution_count": 57,
     "metadata": {},
     "output_type": "execute_result"
    }
   ]
  },
  {
   "cell_type": "code",
   "source": [
    "for discipline in disciplines_only:\n",
    "  sorted_discipline_medals = medals_by_country_sport[medals_by_country_sport['discipline_title'] == discipline].sort_values(by='medal_type', ascending=False)\n",
    "  print(sorted_discipline_medals.head())"
   ],
   "metadata": {
    "colab": {
     "base_uri": "https://localhost:8080/"
    },
    "id": "f3-sJkm-nquc",
    "outputId": "240ad575-f227-4a3c-c307-b2685932545d",
    "ExecuteTime": {
     "end_time": "2024-05-30T10:38:42.671876Z",
     "start_time": "2024-05-30T10:38:42.537768300Z"
    }
   },
   "execution_count": 58,
   "outputs": [
    {
     "name": "stdout",
     "output_type": "stream",
     "text": [
      "                  country_name discipline_title  medal_type\n",
      "2156                     Italy          Fencing         130\n",
      "1463                    France          Fencing         123\n",
      "1898                   Hungary          Fencing          90\n",
      "3952              Soviet Union          Fencing          49\n",
      "4517  United States of America          Fencing          33\n",
      "                  country_name discipline_title  medal_type\n",
      "4492  United States of America        Athletics         824\n",
      "1654             Great Britain        Athletics         211\n",
      "3937              Soviet Union        Athletics         193\n",
      "1390                   Finland        Athletics         114\n",
      "1579                   Germany        Athletics         113\n",
      "       country_name discipline_title  medal_type\n",
      "1672  Great Britain    Cycling Track          79\n",
      "1456         France    Cycling Track          67\n",
      "191       Australia    Cycling Track          47\n",
      "2150          Italy    Cycling Track          40\n",
      "1595        Germany    Cycling Track          39\n",
      "           country_name discipline_title  medal_type\n",
      "2265              Japan             Judo          96\n",
      "1473             France             Judo          57\n",
      "3496  Republic of Korea             Judo          46\n",
      "969                Cuba             Judo          37\n",
      "2854        Netherlands             Judo          24\n",
      "                  country_name discipline_title  medal_type\n",
      "239                    Austria    Alpine Skiing         128\n",
      "4125               Switzerland    Alpine Skiing          75\n",
      "1434                    France    Alpine Skiing          51\n",
      "4488  United States of America    Alpine Skiing          48\n",
      "2991                    Norway    Alpine Skiing          40\n"
     ]
    }
   ]
  },
  {
   "cell_type": "code",
   "source": [
    "# Q15. What are the most dominant sports in the Olympics over the years?"
   ],
   "metadata": {
    "id": "bg96Vku0o-w4",
    "ExecuteTime": {
     "end_time": "2024-05-30T10:38:43.658313800Z",
     "start_time": "2024-05-30T10:38:43.595859200Z"
    }
   },
   "execution_count": 59,
   "outputs": []
  },
  {
   "cell_type": "code",
   "source": [
    "top_sports_jo = merged_df_hosts.groupby('discipline_title')['discipline_title'].count()\n",
    "top_sports_jo.sort_values(ascending=False).head(5)"
   ],
   "metadata": {
    "colab": {
     "base_uri": "https://localhost:8080/"
    },
    "id": "YcXKO088pLTn",
    "outputId": "7862497e-e851-4ba5-b6a7-9a5faba945a1",
    "ExecuteTime": {
     "end_time": "2024-05-30T10:38:45.685229500Z",
     "start_time": "2024-05-30T10:38:45.426289Z"
    }
   },
   "execution_count": 60,
   "outputs": [
    {
     "data": {
      "text/plain": "discipline_title\nAthletics              19259\nSwimming               14704\nShooting               10599\nAlpine Skiing          10185\nGymnastics Artistic     9569\nName: discipline_title, dtype: int64"
     },
     "execution_count": 60,
     "metadata": {},
     "output_type": "execute_result"
    }
   ]
  }
 ]
}
