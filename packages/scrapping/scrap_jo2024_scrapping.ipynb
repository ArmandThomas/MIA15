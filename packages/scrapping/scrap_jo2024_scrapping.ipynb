{
 "metadata": {
  "kernelspec": {
   "language": "python",
   "display_name": "Python 3",
   "name": "python3"
  },
  "language_info": {
   "name": "python",
   "version": "3.10.13",
   "mimetype": "text/x-python",
   "codemirror_mode": {
    "name": "ipython",
    "version": 3
   },
   "pygments_lexer": "ipython3",
   "nbconvert_exporter": "python",
   "file_extension": ".py"
  },
  "kaggle": {
   "accelerator": "none",
   "dataSources": [],
   "dockerImageVersionId": 30698,
   "isInternetEnabled": true,
   "language": "python",
   "sourceType": "notebook",
   "isGpuEnabled": false
  }
 },
 "nbformat_minor": 4,
 "nbformat": 4,
 "cells": [
  {
   "cell_type": "code",
   "source": [
    "import requests\n",
    "from bs4 import BeautifulSoup"
   ],
   "metadata": {
    "_uuid": "8f2839f25d086af736a60e9eeb907d3b93b6e0e5",
    "_cell_guid": "b1076dfc-b9ad-4769-8c92-a6c4dae69d19",
    "execution": {
     "iopub.status.busy": "2024-05-28T12:35:31.684165Z",
     "iopub.execute_input": "2024-05-28T12:35:31.684586Z",
     "iopub.status.idle": "2024-05-28T12:35:32.057041Z",
     "shell.execute_reply.started": "2024-05-28T12:35:31.684555Z",
     "shell.execute_reply": "2024-05-28T12:35:32.055860Z"
    },
    "trusted": true,
    "ExecuteTime": {
     "end_time": "2024-05-28T15:54:45.763954200Z",
     "start_time": "2024-05-28T15:54:45.759430Z"
    }
   },
   "execution_count": 6,
   "outputs": []
  },
  {
   "cell_type": "code",
   "source": [
    "res = requests.get('https://olympics.com/fr/paris-2024/calendrier', headers={'User-Agent': 'Mozilla/5.0'})"
   ],
   "metadata": {
    "execution": {
     "iopub.status.busy": "2024-05-28T13:07:18.903691Z",
     "iopub.execute_input": "2024-05-28T13:07:18.904094Z",
     "iopub.status.idle": "2024-05-28T13:07:19.240027Z",
     "shell.execute_reply.started": "2024-05-28T13:07:18.904056Z",
     "shell.execute_reply": "2024-05-28T13:07:19.238865Z"
    },
    "trusted": true,
    "ExecuteTime": {
     "end_time": "2024-05-28T15:54:46.408377500Z",
     "start_time": "2024-05-28T15:54:45.762954Z"
    }
   },
   "execution_count": 7,
   "outputs": []
  },
  {
   "cell_type": "code",
   "source": [
    "if res.status_code == 200:\n",
    "    soup = BeautifulSoup(res.content, 'html.parser')\n",
    "\n",
    "table = soup.find_all('table',attrs={'rows': True})[0]\n",
    "rows = table.find_all('tr', attrs={'data-cy': True})\n",
    "rows.pop(0)"
   ],
   "metadata": {
    "execution": {
     "iopub.status.busy": "2024-05-28T13:30:34.171410Z",
     "iopub.execute_input": "2024-05-28T13:30:34.171837Z",
     "iopub.status.idle": "2024-05-28T13:30:34.335656Z",
     "shell.execute_reply.started": "2024-05-28T13:30:34.171807Z",
     "shell.execute_reply": "2024-05-28T13:30:34.334484Z"
    },
    "trusted": true,
    "ExecuteTime": {
     "end_time": "2024-05-28T15:54:46.524270700Z",
     "start_time": "2024-05-28T15:54:46.462905600Z"
    }
   },
   "execution_count": 8,
   "outputs": [
    {
     "data": {
      "text/plain": "<tr data-cy=\"discipline-link-CER\"><th scope=\"row\"><a class=\"StaticScheduleGrid-styles__DisciplineLink-sc-3be4b09b-7 cSXffd\" href=\"/fr/paris-2024/les-jeux/ceremonies/ceremonie-d-ouverture\"><picture class=\"styles__Picture-sc-3cfb7849-0 efWarV sc-hBMVwJ hQecPK pictogram--odf-CER pictogram--size-small\" data-cy=\"discipline-icon\"><img alt=\"discipline-CER\" class=\"lazyload\" data-src=\"https://gstatic.olympics.com/s1/t_original/static/light/pictograms-paris-2024/olympics/CER_small.svg\" height=\"28\" loading=\"lazy\" src=\"https://gstatic.olympics.com/s1/t_original/static/light/pictograms-paris-2024/olympics/CER_small.svg\" title=\"\" width=\"28\"/></picture><span class=\"sc-bdnyFh brKWaF text--sm-body\">Cérémonies</span></a></th><td class=\"StaticScheduleGrid-styles__EventCell-sc-3be4b09b-6 hXSrTl filled\"><span></span></td><td class=\"StaticScheduleGrid-styles__EventCell-sc-3be4b09b-6 hXSrTl filled\"><span></span></td><td class=\"StaticScheduleGrid-styles__EventCell-sc-3be4b09b-6 hXSrTl filled\"><span><svg aria-label=\"dot\" fill=\"none\" height=\"16\" role=\"img\" viewbox=\"0 0 16 16\" width=\"16\" xmlns=\"http://www.w3.org/2000/svg\"><circle cx=\"8\" cy=\"8\" r=\"7.5\" stroke=\"#000000\" transform=\"matrix(-1 0 0 1 16 0)\"></circle></svg></span></td><td class=\"StaticScheduleGrid-styles__EventCell-sc-3be4b09b-6 hXSrTl filled\"><span></span></td><td class=\"StaticScheduleGrid-styles__EventCell-sc-3be4b09b-6 hXSrTl filled\"><span></span></td><td class=\"StaticScheduleGrid-styles__EventCell-sc-3be4b09b-6 hXSrTl filled\"><span></span></td><td class=\"StaticScheduleGrid-styles__EventCell-sc-3be4b09b-6 hXSrTl filled\"><span></span></td><td class=\"StaticScheduleGrid-styles__EventCell-sc-3be4b09b-6 hXSrTl filled\"><span></span></td><td class=\"StaticScheduleGrid-styles__EventCell-sc-3be4b09b-6 hXSrTl filled\"><span></span></td><td class=\"StaticScheduleGrid-styles__EventCell-sc-3be4b09b-6 hXSrTl filled\"><span></span></td><td class=\"StaticScheduleGrid-styles__EventCell-sc-3be4b09b-6 hXSrTl filled\"><span></span></td><td class=\"StaticScheduleGrid-styles__EventCell-sc-3be4b09b-6 hXSrTl filled\"><span></span></td><td class=\"StaticScheduleGrid-styles__EventCell-sc-3be4b09b-6 hXSrTl filled\"><span></span></td><td class=\"StaticScheduleGrid-styles__EventCell-sc-3be4b09b-6 hXSrTl filled\"><span></span></td><td class=\"StaticScheduleGrid-styles__EventCell-sc-3be4b09b-6 hXSrTl filled\"><span></span></td><td class=\"StaticScheduleGrid-styles__EventCell-sc-3be4b09b-6 hXSrTl filled\"><span></span></td><td class=\"StaticScheduleGrid-styles__EventCell-sc-3be4b09b-6 hXSrTl filled\"><span></span></td><td class=\"StaticScheduleGrid-styles__EventCell-sc-3be4b09b-6 hXSrTl filled\"><span></span></td><td class=\"StaticScheduleGrid-styles__EventCell-sc-3be4b09b-6 hXSrTl filled\"><span><svg aria-label=\"dot\" fill=\"none\" height=\"16\" role=\"img\" viewbox=\"0 0 16 16\" width=\"16\" xmlns=\"http://www.w3.org/2000/svg\"><circle cx=\"8\" cy=\"8\" r=\"7.5\" stroke=\"#000000\" transform=\"matrix(-1 0 0 1 16 0)\"></circle></svg></span></td></tr>"
     },
     "execution_count": 8,
     "metadata": {},
     "output_type": "execute_result"
    }
   ]
  },
  {
   "cell_type": "code",
   "source": [
    "data = []\n",
    "import re\n",
    "\n",
    "for row in rows:\n",
    "    curr_dict = {}\n",
    "    data_cy_value = row.get('data-cy')\n",
    "    discipline = data_cy_value.split('link-discipline-')[-1]\n",
    "    curr_dict['discipline'] = discipline\n",
    "    curr_dict['nbr_epreuves'] = 0\n",
    "    tds = row.find_all('td')\n",
    "    for td in tds:\n",
    "        is_svg = len(td.find_all('path')) == 1\n",
    "        if is_svg:\n",
    "            curr_dict['nbr_epreuves'] = curr_dict['nbr_epreuves'] + 1\n",
    "    data.append(curr_dict)\n",
    "    \n"
   ],
   "metadata": {
    "execution": {
     "iopub.status.busy": "2024-05-28T13:57:16.177762Z",
     "iopub.execute_input": "2024-05-28T13:57:16.178209Z",
     "iopub.status.idle": "2024-05-28T13:57:16.199811Z",
     "shell.execute_reply.started": "2024-05-28T13:57:16.178176Z",
     "shell.execute_reply": "2024-05-28T13:57:16.198366Z"
    },
    "trusted": true,
    "ExecuteTime": {
     "end_time": "2024-05-28T15:54:46.534446600Z",
     "start_time": "2024-05-28T15:54:46.519267600Z"
    }
   },
   "execution_count": 9,
   "outputs": []
  },
  {
   "cell_type": "code",
   "source": [
    "import csv\n",
    "\n",
    "with open('output/olympics_data_2024.csv', 'w', newline='', encoding='utf-8') as csvfile:\n",
    "    fieldnames = ['discipline', 'nbr_epreuves']\n",
    "    writer = csv.DictWriter(csvfile, fieldnames=fieldnames)\n",
    "    \n",
    "    writer.writeheader()\n",
    "    for row in data:\n",
    "        writer.writerow(row)"
   ],
   "metadata": {
    "execution": {
     "iopub.status.busy": "2024-05-28T14:02:29.044191Z",
     "iopub.execute_input": "2024-05-28T14:02:29.044646Z",
     "iopub.status.idle": "2024-05-28T14:02:29.053145Z",
     "shell.execute_reply.started": "2024-05-28T14:02:29.044617Z",
     "shell.execute_reply": "2024-05-28T14:02:29.051558Z"
    },
    "trusted": true,
    "ExecuteTime": {
     "end_time": "2024-05-28T15:54:46.535448Z",
     "start_time": "2024-05-28T15:54:46.530647900Z"
    }
   },
   "execution_count": 10,
   "outputs": []
  }
 ]
}
