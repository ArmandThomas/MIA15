{
 "cells": [
  {
   "cell_type": "code",
   "execution_count": 8,
   "id": "initial_id",
   "metadata": {
    "ExecuteTime": {
     "end_time": "2024-05-28T19:19:12.008853100Z",
     "start_time": "2024-05-28T19:19:11.988853800Z"
    }
   },
   "outputs": [],
   "source": [
    "import pandas as pd\n",
    "import numpy as np"
   ]
  },
  {
   "cell_type": "code",
   "execution_count": 9,
   "id": "1b3ae0f318a0b55f",
   "metadata": {
    "collapsed": false,
    "ExecuteTime": {
     "end_time": "2024-05-28T19:19:12.608965100Z",
     "start_time": "2024-05-28T19:19:12.012853Z"
    }
   },
   "outputs": [
    {
     "data": {
      "text/plain": "                                             athlete_url  \\\n0      https://olympics.com/en/athletes/cooper-woods-...   \n1              https://olympics.com/en/athletes/elofsson   \n2         https://olympics.com/en/athletes/dylan-walczyk   \n3         https://olympics.com/en/athletes/olli-penttala   \n4              https://olympics.com/en/athletes/reikherd   \n...                                                  ...   \n75899    https://olympics.com/en/athletes/douglas-weigle   \n75900  https://olympics.com/en/athletes/stefania-bertele   \n75901    https://olympics.com/en/athletes/walter-cecconi   \n75902      https://olympics.com/en/athletes/susan-kelley   \n75903  https://olympics.com/en/athletes/andrew-stroukoff   \n\n            athlete_full_name  games_participations        first_game  \\\n0      Cooper WOODS-TOPALOVIC                     1      Beijing 2022   \n1              Felix ELOFSSON                     2  PyeongChang 2018   \n2               Dylan WALCZYK                     1      Beijing 2022   \n3               Olli PENTTALA                     1      Beijing 2022   \n4            Dmitriy REIKHERD                     1      Beijing 2022   \n...                       ...                   ...               ...   \n75899          Douglas WEIGLE                     1    Innsbruck 1976   \n75900        Stefania BERTELE                     1    Innsbruck 1976   \n75901          Walter CECCONI                     1    Innsbruck 1976   \n75902            Susan KELLEY                     1    Innsbruck 1976   \n75903        Andrew STROUKOFF                     1    Innsbruck 1976   \n\n       athlete_year_birth athlete_medals  \\\n0                  2000.0            NaN   \n1                  1995.0            NaN   \n2                  1993.0            NaN   \n3                  1995.0            NaN   \n4                  1989.0            NaN   \n...                   ...            ...   \n75899              1955.0            NaN   \n75900              1957.0            NaN   \n75901              1957.0            NaN   \n75902              1954.0            NaN   \n75903              1960.0            NaN   \n\n                                                     bio  \n0                                                    NaN  \n1                                                    NaN  \n2                                                    NaN  \n3                                                    NaN  \n4                                                    NaN  \n...                                                  ...  \n75899  \\n\\n\\nKent Weigle competed in ice dancing with...  \n75900  \\n\\n\\nStefania Bertele had the following place...  \n75901  \\n\\n\\nWalter Cecconi had the following placeme...  \n75902  \\n\\n\\nSusie Kelley competed in ice dancing wit...  \n75903  \\n\\n\\nAndrew Stroukoff competed in ice dancing...  \n\n[75904 rows x 7 columns]",
      "text/html": "<div>\n<style scoped>\n    .dataframe tbody tr th:only-of-type {\n        vertical-align: middle;\n    }\n\n    .dataframe tbody tr th {\n        vertical-align: top;\n    }\n\n    .dataframe thead th {\n        text-align: right;\n    }\n</style>\n<table border=\"1\" class=\"dataframe\">\n  <thead>\n    <tr style=\"text-align: right;\">\n      <th></th>\n      <th>athlete_url</th>\n      <th>athlete_full_name</th>\n      <th>games_participations</th>\n      <th>first_game</th>\n      <th>athlete_year_birth</th>\n      <th>athlete_medals</th>\n      <th>bio</th>\n    </tr>\n  </thead>\n  <tbody>\n    <tr>\n      <th>0</th>\n      <td>https://olympics.com/en/athletes/cooper-woods-...</td>\n      <td>Cooper WOODS-TOPALOVIC</td>\n      <td>1</td>\n      <td>Beijing 2022</td>\n      <td>2000.0</td>\n      <td>NaN</td>\n      <td>NaN</td>\n    </tr>\n    <tr>\n      <th>1</th>\n      <td>https://olympics.com/en/athletes/elofsson</td>\n      <td>Felix ELOFSSON</td>\n      <td>2</td>\n      <td>PyeongChang 2018</td>\n      <td>1995.0</td>\n      <td>NaN</td>\n      <td>NaN</td>\n    </tr>\n    <tr>\n      <th>2</th>\n      <td>https://olympics.com/en/athletes/dylan-walczyk</td>\n      <td>Dylan WALCZYK</td>\n      <td>1</td>\n      <td>Beijing 2022</td>\n      <td>1993.0</td>\n      <td>NaN</td>\n      <td>NaN</td>\n    </tr>\n    <tr>\n      <th>3</th>\n      <td>https://olympics.com/en/athletes/olli-penttala</td>\n      <td>Olli PENTTALA</td>\n      <td>1</td>\n      <td>Beijing 2022</td>\n      <td>1995.0</td>\n      <td>NaN</td>\n      <td>NaN</td>\n    </tr>\n    <tr>\n      <th>4</th>\n      <td>https://olympics.com/en/athletes/reikherd</td>\n      <td>Dmitriy REIKHERD</td>\n      <td>1</td>\n      <td>Beijing 2022</td>\n      <td>1989.0</td>\n      <td>NaN</td>\n      <td>NaN</td>\n    </tr>\n    <tr>\n      <th>...</th>\n      <td>...</td>\n      <td>...</td>\n      <td>...</td>\n      <td>...</td>\n      <td>...</td>\n      <td>...</td>\n      <td>...</td>\n    </tr>\n    <tr>\n      <th>75899</th>\n      <td>https://olympics.com/en/athletes/douglas-weigle</td>\n      <td>Douglas WEIGLE</td>\n      <td>1</td>\n      <td>Innsbruck 1976</td>\n      <td>1955.0</td>\n      <td>NaN</td>\n      <td>\\n\\n\\nKent Weigle competed in ice dancing with...</td>\n    </tr>\n    <tr>\n      <th>75900</th>\n      <td>https://olympics.com/en/athletes/stefania-bertele</td>\n      <td>Stefania BERTELE</td>\n      <td>1</td>\n      <td>Innsbruck 1976</td>\n      <td>1957.0</td>\n      <td>NaN</td>\n      <td>\\n\\n\\nStefania Bertele had the following place...</td>\n    </tr>\n    <tr>\n      <th>75901</th>\n      <td>https://olympics.com/en/athletes/walter-cecconi</td>\n      <td>Walter CECCONI</td>\n      <td>1</td>\n      <td>Innsbruck 1976</td>\n      <td>1957.0</td>\n      <td>NaN</td>\n      <td>\\n\\n\\nWalter Cecconi had the following placeme...</td>\n    </tr>\n    <tr>\n      <th>75902</th>\n      <td>https://olympics.com/en/athletes/susan-kelley</td>\n      <td>Susan KELLEY</td>\n      <td>1</td>\n      <td>Innsbruck 1976</td>\n      <td>1954.0</td>\n      <td>NaN</td>\n      <td>\\n\\n\\nSusie Kelley competed in ice dancing wit...</td>\n    </tr>\n    <tr>\n      <th>75903</th>\n      <td>https://olympics.com/en/athletes/andrew-stroukoff</td>\n      <td>Andrew STROUKOFF</td>\n      <td>1</td>\n      <td>Innsbruck 1976</td>\n      <td>1960.0</td>\n      <td>NaN</td>\n      <td>\\n\\n\\nAndrew Stroukoff competed in ice dancing...</td>\n    </tr>\n  </tbody>\n</table>\n<p>75904 rows × 7 columns</p>\n</div>"
     },
     "execution_count": 9,
     "metadata": {},
     "output_type": "execute_result"
    },
    {
     "name": "stderr",
     "output_type": "stream",
     "text": [
      "C:\\Users\\arman\\PycharmProjects\\pythonProject3\\.venv\\Lib\\site-packages\\gevent\\hub.py:161: UserWarning: libuv only supports millisecond timer resolution; all times less will be set to 1 ms\n",
      "  with loop.timer(seconds, ref=ref) as t:\n"
     ]
    }
   ],
   "source": [
    "df_athletes = pd.read_csv('../clean_data/data/input/athletes.csv')\n",
    "df_athletes"
   ]
  },
  {
   "cell_type": "code",
   "execution_count": 10,
   "id": "924a91776e944232",
   "metadata": {
    "collapsed": false,
    "ExecuteTime": {
     "end_time": "2024-05-29T00:16:32.755273200Z",
     "start_time": "2024-05-28T19:19:12.583966Z"
    }
   },
   "outputs": [
    {
     "name": "stderr",
     "output_type": "stream",
     "text": [
      "\n",
      "[notice] A new release of pip is available: 23.2.1 -> 24.0\n",
      "[notice] To update, run: python.exe -m pip install --upgrade pip\n"
     ]
    },
    {
     "name": "stdout",
     "output_type": "stream",
     "text": [
      "Requirement already satisfied: tqdm in c:\\users\\arman\\pycharmprojects\\pythonproject3\\.venv\\lib\\site-packages (4.66.4)\n",
      "Requirement already satisfied: colorama in c:\\users\\arman\\pycharmprojects\\pythonproject3\\.venv\\lib\\site-packages (from tqdm) (0.4.6)\n"
     ]
    },
    {
     "name": "stderr",
     "output_type": "stream",
     "text": [
      "  0%|          | 0/75904 [28:46<?, ?it/s]\n",
      "100%|██████████| 75904/75904 [4:57:17<00:00,  4.26it/s]   \n"
     ]
    },
    {
     "data": {
      "text/plain": "                                         athlete_url       athlete_full_name  \\\n0  https://olympics.com/en/athletes/cooper-woods-...  Cooper WOODS-TOPALOVIC   \n1          https://olympics.com/en/athletes/elofsson          Felix ELOFSSON   \n2     https://olympics.com/en/athletes/dylan-walczyk           Dylan WALCZYK   \n3     https://olympics.com/en/athletes/olli-penttala           Olli PENTTALA   \n4          https://olympics.com/en/athletes/reikherd        Dmitriy REIKHERD   \n\n   games_participations        first_game  athlete_year_birth athlete_medals  \\\n0                     1      Beijing 2022              2000.0            NaN   \n1                     2  PyeongChang 2018              1995.0            NaN   \n2                     1      Beijing 2022              1993.0            NaN   \n3                     1      Beijing 2022              1995.0            NaN   \n4                     1      Beijing 2022              1989.0            NaN   \n\n   bio athlete_img  \n0  NaN         NaN  \n1  NaN         NaN  \n2  NaN         NaN  \n3  NaN         NaN  \n4  NaN         NaN  ",
      "text/html": "<div>\n<style scoped>\n    .dataframe tbody tr th:only-of-type {\n        vertical-align: middle;\n    }\n\n    .dataframe tbody tr th {\n        vertical-align: top;\n    }\n\n    .dataframe thead th {\n        text-align: right;\n    }\n</style>\n<table border=\"1\" class=\"dataframe\">\n  <thead>\n    <tr style=\"text-align: right;\">\n      <th></th>\n      <th>athlete_url</th>\n      <th>athlete_full_name</th>\n      <th>games_participations</th>\n      <th>first_game</th>\n      <th>athlete_year_birth</th>\n      <th>athlete_medals</th>\n      <th>bio</th>\n      <th>athlete_img</th>\n    </tr>\n  </thead>\n  <tbody>\n    <tr>\n      <th>0</th>\n      <td>https://olympics.com/en/athletes/cooper-woods-...</td>\n      <td>Cooper WOODS-TOPALOVIC</td>\n      <td>1</td>\n      <td>Beijing 2022</td>\n      <td>2000.0</td>\n      <td>NaN</td>\n      <td>NaN</td>\n      <td>NaN</td>\n    </tr>\n    <tr>\n      <th>1</th>\n      <td>https://olympics.com/en/athletes/elofsson</td>\n      <td>Felix ELOFSSON</td>\n      <td>2</td>\n      <td>PyeongChang 2018</td>\n      <td>1995.0</td>\n      <td>NaN</td>\n      <td>NaN</td>\n      <td>NaN</td>\n    </tr>\n    <tr>\n      <th>2</th>\n      <td>https://olympics.com/en/athletes/dylan-walczyk</td>\n      <td>Dylan WALCZYK</td>\n      <td>1</td>\n      <td>Beijing 2022</td>\n      <td>1993.0</td>\n      <td>NaN</td>\n      <td>NaN</td>\n      <td>NaN</td>\n    </tr>\n    <tr>\n      <th>3</th>\n      <td>https://olympics.com/en/athletes/olli-penttala</td>\n      <td>Olli PENTTALA</td>\n      <td>1</td>\n      <td>Beijing 2022</td>\n      <td>1995.0</td>\n      <td>NaN</td>\n      <td>NaN</td>\n      <td>NaN</td>\n    </tr>\n    <tr>\n      <th>4</th>\n      <td>https://olympics.com/en/athletes/reikherd</td>\n      <td>Dmitriy REIKHERD</td>\n      <td>1</td>\n      <td>Beijing 2022</td>\n      <td>1989.0</td>\n      <td>NaN</td>\n      <td>NaN</td>\n      <td>NaN</td>\n    </tr>\n  </tbody>\n</table>\n</div>"
     },
     "execution_count": 10,
     "metadata": {},
     "output_type": "execute_result"
    },
    {
     "name": "stderr",
     "output_type": "stream",
     "text": [
      "C:\\Users\\arman\\PycharmProjects\\pythonProject3\\.venv\\Lib\\site-packages\\gevent\\hub.py:161: UserWarning: libuv only supports millisecond timer resolution; all times less will be set to 1 ms\n",
      "  with loop.timer(seconds, ref=ref) as t:\n"
     ]
    }
   ],
   "source": [
    "import sys\n",
    "!{sys.executable} -m pip install tqdm\n",
    "\n",
    "import requests\n",
    "from bs4 import BeautifulSoup\n",
    "from tqdm import tqdm\n",
    "\n",
    "def get_image_for_athlete(row):\n",
    "    row['athlete_img'] = np.nan\n",
    "    if pd.notna(row['athlete_url']):\n",
    "        response = requests.get(row['athlete_url'], headers={'User-Agent': 'Mozilla/5.0'})\n",
    "        if response.status_code == 200:\n",
    "            soup = BeautifulSoup(response.content, 'html.parser')\n",
    "            image_athlete = soup.find('div', attrs={'data-cy': 'athlete-image'})\n",
    "            if image_athlete:\n",
    "                img = image_athlete.find('img')\n",
    "                if img and 'src' in img.attrs:\n",
    "                    row['athlete_img'] = img['src']\n",
    "    pbar.update(1)\n",
    "    return row\n",
    "\n",
    "pbar = tqdm(total=len(df_athletes))\n",
    "\n",
    "df_athletes = df_athletes.apply(lambda row: get_image_for_athlete(row), axis=1)\n",
    "\n",
    "pbar.close()\n",
    "df_athletes.head()"
   ]
  },
  {
   "cell_type": "code",
   "execution_count": 14,
   "id": "8b51713bbfb178ad",
   "metadata": {
    "collapsed": false,
    "ExecuteTime": {
     "end_time": "2024-05-29T00:18:37.225159300Z",
     "start_time": "2024-05-29T00:18:37.150137900Z"
    }
   },
   "outputs": [
    {
     "data": {
      "text/plain": "array([nan,\n       'https://img.olympics.com/images/image/private/t_1-1_300/f_auto/primary/soovyqhtjrxljpwehcuy',\n       'https://img.olympics.com/images/image/private/t_1-1_300/f_auto/primary/sqe095zfaymsvcfqyvpj',\n       ...,\n       'https://img.olympics.com/images/image/private/t_1-1_300/f_auto/v1619194866/primary/w7n9i8rlp6g9nolmxq88',\n       'https://img.olympics.com/images/image/private/t_1-1_300/f_auto/v1619604778/primary/qycre46kemkleaj9loqj',\n       'https://img.olympics.com/images/image/private/t_1-1_300/f_auto/v1619196637/primary/cqv852yzh2xf7mcyubfk'],\n      dtype=object)"
     },
     "execution_count": 14,
     "metadata": {},
     "output_type": "execute_result"
    }
   ],
   "source": [
    "df_athletes['athlete_img'].unique()"
   ]
  },
  {
   "cell_type": "code",
   "outputs": [
    {
     "data": {
      "text/plain": "'https://img.olympics.com/images/image/private/t_1-1_300/f_auto/primary/soovyqhtjrxljpwehcuy'"
     },
     "execution_count": 15,
     "metadata": {},
     "output_type": "execute_result"
    }
   ],
   "source": [
    "df_athletes['athlete_img'].unique()[1]"
   ],
   "metadata": {
    "collapsed": false,
    "ExecuteTime": {
     "end_time": "2024-05-29T00:19:06.959510400Z",
     "start_time": "2024-05-29T00:19:06.906928700Z"
    }
   },
   "id": "213147bbad1c8d73",
   "execution_count": 15
  },
  {
   "cell_type": "code",
   "outputs": [
    {
     "data": {
      "text/plain": "2154"
     },
     "execution_count": 16,
     "metadata": {},
     "output_type": "execute_result"
    }
   ],
   "source": [
    "len(df_athletes['athlete_img'].unique())"
   ],
   "metadata": {
    "collapsed": false,
    "ExecuteTime": {
     "end_time": "2024-05-29T00:19:38.884599400Z",
     "start_time": "2024-05-29T00:19:38.845027900Z"
    }
   },
   "id": "e9b4ec21c53a1e6f",
   "execution_count": 16
  },
  {
   "cell_type": "code",
   "outputs": [],
   "source": [
    "df_athletes.to_csv('../clean_data/data/output/athletes_with_images.csv', index=False, encoding='utf-8')"
   ],
   "metadata": {
    "collapsed": false,
    "ExecuteTime": {
     "end_time": "2024-05-29T00:21:07.145942300Z",
     "start_time": "2024-05-29T00:21:06.535826100Z"
    }
   },
   "id": "c073fc24a4518c3b",
   "execution_count": 17
  },
  {
   "cell_type": "code",
   "outputs": [],
   "source": [],
   "metadata": {
    "collapsed": false
   },
   "id": "1b6a8e8eb13fa57"
  }
 ],
 "metadata": {
  "kernelspec": {
   "display_name": "Python 3 (ipykernel)",
   "language": "python",
   "name": "python3"
  },
  "language_info": {
   "codemirror_mode": {
    "name": "ipython",
    "version": 3
   },
   "file_extension": ".py",
   "mimetype": "text/x-python",
   "name": "python",
   "nbconvert_exporter": "python",
   "pygments_lexer": "ipython3",
   "version": "3.11.8"
  }
 },
 "nbformat": 4,
 "nbformat_minor": 5
}
